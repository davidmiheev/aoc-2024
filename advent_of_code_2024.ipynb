{
  "cells": [
    {
      "cell_type": "markdown",
      "metadata": {
        "colab_type": "text",
        "id": "view-in-github"
      },
      "source": [
        "<a href=\"https://colab.research.google.com/github/davidmiheev/aoc-2024/blob/main/advent_of_code_2024.ipynb\" target=\"_parent\"><img src=\"https://colab.research.google.com/assets/colab-badge.svg\" alt=\"Open In Colab\"/></a>"
      ]
    },
    {
      "cell_type": "code",
      "execution_count": 188,
      "metadata": {
        "id": "b8EI-CFuUT-V"
      },
      "outputs": [],
      "source": [
        "# import os \n",
        "\n",
        "# for i in range(13):\n",
        "#     with open(f'day {i + 1}/input.txt', 'w') as file:\n",
        "#         pass"
      ]
    },
    {
      "cell_type": "markdown",
      "metadata": {
        "id": "U_CkJOrmXp4y"
      },
      "source": [
        "# Advent of Code 2024"
      ]
    },
    {
      "cell_type": "markdown",
      "metadata": {
        "id": "dnpcs2u3XsWK"
      },
      "source": [
        "## Day 1"
      ]
    },
    {
      "cell_type": "code",
      "execution_count": 189,
      "metadata": {
        "id": "loePtpWvVL3K"
      },
      "outputs": [],
      "source": [
        "with open('day 1/input.txt') as f:\n",
        "    lines = f.readlines()"
      ]
    },
    {
      "cell_type": "code",
      "execution_count": 190,
      "metadata": {
        "id": "mH6hZEc8VW9i"
      },
      "outputs": [],
      "source": [
        "left, right = [], []\n",
        "for line in lines:\n",
        "    l, r = line[:-1].split('   ')\n",
        "    left.append(int(l))\n",
        "    right.append(int(r))\n"
      ]
    },
    {
      "cell_type": "code",
      "execution_count": 191,
      "metadata": {
        "colab": {
          "base_uri": "https://localhost:8080/"
        },
        "id": "Mov1sBq9YU6F",
        "outputId": "31bdc4ac-80b4-4d0a-c9f0-8f4b948f8a98"
      },
      "outputs": [
        {
          "data": {
            "text/plain": [
              "2000468"
            ]
          },
          "execution_count": 191,
          "metadata": {},
          "output_type": "execute_result"
        }
      ],
      "source": [
        "sum(abs(id2 - id1) for id1, id2 in zip(sorted(left), sorted(right)))"
      ]
    },
    {
      "cell_type": "code",
      "execution_count": 192,
      "metadata": {
        "colab": {
          "base_uri": "https://localhost:8080/"
        },
        "id": "tD885edNhI-e",
        "outputId": "53e8ec68-b5f1-4a74-fb70-22b030dfdaaf"
      },
      "outputs": [
        {
          "data": {
            "text/plain": [
              "18567089"
            ]
          },
          "execution_count": 192,
          "metadata": {},
          "output_type": "execute_result"
        }
      ],
      "source": [
        "from collections import Counter\n",
        "\n",
        "cnt_r = Counter(right)\n",
        "sum(id1 * cnt_r[id1] for id1 in left)"
      ]
    },
    {
      "cell_type": "markdown",
      "metadata": {
        "id": "8iqE5hjPi70p"
      },
      "source": [
        "## Day 2"
      ]
    },
    {
      "cell_type": "code",
      "execution_count": 193,
      "metadata": {
        "id": "a8zobvjBjWT3"
      },
      "outputs": [],
      "source": [
        "with open('day 2/input.txt') as f:\n",
        "    lines = f.readlines()"
      ]
    },
    {
      "cell_type": "code",
      "execution_count": 194,
      "metadata": {
        "colab": {
          "base_uri": "https://localhost:8080/"
        },
        "id": "DL9u-YrbjbwC",
        "outputId": "d54a0a0a-83ae-430d-ec88-0f0da88bf753"
      },
      "outputs": [
        {
          "data": {
            "text/plain": [
              "[['19', '21', '24', '27', '24'],\n",
              " ['85', '87', '89', '92', '93', '96', '98', '98'],\n",
              " ['2', '5', '6', '7', '8', '12'],\n",
              " ['63', '66', '69', '72', '75', '82'],\n",
              " ['18', '21', '23', '26', '28', '26', '27', '28'],\n",
              " ['16', '19', '21', '19', '20', '22', '23', '22'],\n",
              " ['37', '39', '37', '38', '41', '42', '44', '44'],\n",
              " ['18', '20', '17', '20', '24'],\n",
              " ['50', '51', '54', '53', '58'],\n",
              " ['73', '76', '77', '80', '83', '83', '84', '85']]"
            ]
          },
          "execution_count": 194,
          "metadata": {},
          "output_type": "execute_result"
        }
      ],
      "source": [
        "reports = []\n",
        "for line in lines:\n",
        "    reports.append(line[:-1].split(' '))\n",
        "\n",
        "reports[:10]"
      ]
    },
    {
      "cell_type": "code",
      "execution_count": 195,
      "metadata": {
        "colab": {
          "base_uri": "https://localhost:8080/"
        },
        "id": "LlP1crakjy64",
        "outputId": "9c6ee6bd-8ae1-4a9d-8a7f-684c8b8eeb02"
      },
      "outputs": [
        {
          "data": {
            "text/plain": [
              "407"
            ]
          },
          "execution_count": 195,
          "metadata": {},
          "output_type": "execute_result"
        }
      ],
      "source": [
        "safe_cnt = 0\n",
        "for report in reports:\n",
        "    if all(1 <= int(n) - int(p) <= 3 for p, n in zip(report, report[1:])):\n",
        "        safe_cnt += 1\n",
        "    if all(-3 <= int(n) - int(p) <= -1 for p, n in zip(report, report[1:])):\n",
        "        safe_cnt += 1\n",
        "\n",
        "safe_cnt"
      ]
    },
    {
      "cell_type": "code",
      "execution_count": 196,
      "metadata": {
        "id": "HR-As9EqRxCW"
      },
      "outputs": [],
      "source": [
        "def check(report, l, r):\n",
        "    x = [l <= int(n) - int(p) <= r for p, n in zip(report, report[1:])]\n",
        "    if sum(x) == len(report) - 1:\n",
        "        return True\n",
        "    i = x.index(False)\n",
        "    if i == len(report) - 2:\n",
        "        return True\n",
        "    report_1, report_2 = report[:i] + report[i + 1:], report[:i + 1] + report[i + 2:]\n",
        "    if all(l <= int(n) - int(p) <= r for p, n in zip(report_1, report_1[1:])):\n",
        "        return True\n",
        "    if all(l <= int(n) - int(p) <= r for p, n in zip(report_2, report_2[1:])):\n",
        "        return True\n",
        "    return False"
      ]
    },
    {
      "cell_type": "code",
      "execution_count": 197,
      "metadata": {
        "colab": {
          "base_uri": "https://localhost:8080/",
          "height": 109
        },
        "id": "erXYTq6rmuH-",
        "outputId": "ca1ff21b-8d8c-4496-f68d-9f16a06bb26b"
      },
      "outputs": [
        {
          "data": {
            "text/plain": [
              "459"
            ]
          },
          "execution_count": 197,
          "metadata": {},
          "output_type": "execute_result"
        }
      ],
      "source": [
        "safe_cnt = 0\n",
        "for report in reports:\n",
        "    if check(report, 1, 3):\n",
        "        safe_cnt += 1\n",
        "        continue\n",
        "    if check(report, -3, -1):\n",
        "        safe_cnt += 1\n",
        "\n",
        "safe_cnt"
      ]
    },
    {
      "cell_type": "markdown",
      "metadata": {
        "id": "qlQZ_uoB25L5"
      },
      "source": [
        "## Day 3"
      ]
    },
    {
      "cell_type": "code",
      "execution_count": 198,
      "metadata": {
        "colab": {
          "base_uri": "https://localhost:8080/"
        },
        "id": "J3Fogi4XIXg5",
        "outputId": "bf4ecb00-863c-4a9c-81bf-73bf6b57a810"
      },
      "outputs": [
        {
          "data": {
            "text/plain": [
              "6"
            ]
          },
          "execution_count": 198,
          "metadata": {},
          "output_type": "execute_result"
        }
      ],
      "source": [
        "with open('day 3/input.txt') as f:\n",
        "    lines = f.readlines()\n",
        "\n",
        "len(lines)"
      ]
    },
    {
      "cell_type": "code",
      "execution_count": 199,
      "metadata": {
        "colab": {
          "base_uri": "https://localhost:8080/"
        },
        "id": "Y4cxE_ivIUxX",
        "outputId": "cb3ba1f1-7971-48fe-d3df-9666e34491f2"
      },
      "outputs": [
        {
          "name": "stderr",
          "output_type": "stream",
          "text": [
            "<>:5: SyntaxWarning: invalid escape sequence '\\('\n",
            "<>:5: SyntaxWarning: invalid escape sequence '\\('\n",
            "/tmp/ipykernel_5649/1902020063.py:5: SyntaxWarning: invalid escape sequence '\\('\n",
            "  for m in re.finditer('mul\\([0-9]{1,3},[0-9]{1,3}\\)', line):\n"
          ]
        },
        {
          "data": {
            "text/plain": [
              "168539636"
            ]
          },
          "execution_count": 199,
          "metadata": {},
          "output_type": "execute_result"
        }
      ],
      "source": [
        "import re\n",
        "\n",
        "res = 0\n",
        "for i, line in enumerate(lines):\n",
        "    for m in re.finditer('mul\\([0-9]{1,3},[0-9]{1,3}\\)', line):\n",
        "        a, b = m.group()[4:-1].split(',')\n",
        "        a, b = int(a), int(b)\n",
        "        res += a * b\n",
        "\n",
        "res"
      ]
    },
    {
      "cell_type": "code",
      "execution_count": 200,
      "metadata": {
        "colab": {
          "base_uri": "https://localhost:8080/"
        },
        "id": "HB5tkZNrMs_U",
        "outputId": "93c96aa5-2bff-4b0e-fddb-1f00abe443cd"
      },
      "outputs": [
        {
          "name": "stderr",
          "output_type": "stream",
          "text": [
            "<>:4: SyntaxWarning: invalid escape sequence '\\('\n",
            "<>:4: SyntaxWarning: invalid escape sequence '\\('\n",
            "/tmp/ipykernel_5649/1879000204.py:4: SyntaxWarning: invalid escape sequence '\\('\n",
            "  for m in re.finditer(\"do\\(\\)|don't\\(\\)|mul\\([0-9]{1,3},[0-9]{1,3}\\)\", line):\n"
          ]
        },
        {
          "data": {
            "text/plain": [
              "97529391"
            ]
          },
          "execution_count": 200,
          "metadata": {},
          "output_type": "execute_result"
        }
      ],
      "source": [
        "res = 0\n",
        "do = True\n",
        "for i, line in enumerate(lines):\n",
        "    for m in re.finditer(\"do\\(\\)|don't\\(\\)|mul\\([0-9]{1,3},[0-9]{1,3}\\)\", line):\n",
        "        if m.group() == 'do()':\n",
        "            do = True\n",
        "            continue\n",
        "        if m.group() == 'don\\'t()':\n",
        "            do = False\n",
        "            continue\n",
        "        if not do:\n",
        "            continue\n",
        "        a, b = m.group()[4:-1].split(',')\n",
        "        a, b = int(a), int(b)\n",
        "        res += a * b\n",
        "\n",
        "res"
      ]
    },
    {
      "cell_type": "markdown",
      "metadata": {
        "id": "Dw6AjM3GHZik"
      },
      "source": [
        "## Day 4"
      ]
    },
    {
      "cell_type": "code",
      "execution_count": 201,
      "metadata": {
        "colab": {
          "base_uri": "https://localhost:8080/"
        },
        "id": "b_FjJ91QHeiQ",
        "outputId": "8b54a43b-8d44-4150-bbc1-70d17e08ef54"
      },
      "outputs": [
        {
          "data": {
            "text/plain": [
              "(140, 140)"
            ]
          },
          "execution_count": 201,
          "metadata": {},
          "output_type": "execute_result"
        }
      ],
      "source": [
        "with open('day 4/input.txt') as f:\n",
        "    lines = f.readlines()\n",
        "\n",
        "len(lines), len(lines[0]) - 1"
      ]
    },
    {
      "cell_type": "code",
      "execution_count": 202,
      "metadata": {
        "colab": {
          "base_uri": "https://localhost:8080/"
        },
        "id": "G1DIA6LsH4i2",
        "outputId": "4a91fb47-9b01-48c7-c9a7-7c18772a7a9e"
      },
      "outputs": [
        {
          "data": {
            "text/plain": [
              "441"
            ]
          },
          "execution_count": 202,
          "metadata": {},
          "output_type": "execute_result"
        }
      ],
      "source": [
        "import re\n",
        "\n",
        "res = 0\n",
        "for line in lines:\n",
        "    for m in re.finditer('XMAS', line):\n",
        "        res += 1\n",
        "    for m in re.finditer('SAMX', line):\n",
        "        res += 1\n",
        "\n",
        "res"
      ]
    },
    {
      "cell_type": "code",
      "execution_count": 203,
      "metadata": {
        "colab": {
          "base_uri": "https://localhost:8080/"
        },
        "id": "dK1TfYcPJZls",
        "outputId": "a0604ce8-4024-4a68-9d9f-16c91a676228"
      },
      "outputs": [
        {
          "data": {
            "text/plain": [
              "2718"
            ]
          },
          "execution_count": 203,
          "metadata": {},
          "output_type": "execute_result"
        }
      ],
      "source": [
        "diagonals = []\n",
        "\n",
        "for i in range(-len(lines) + 1, len(lines)):\n",
        "    diagonal = []\n",
        "    for j in range(len(lines) - abs(i)):\n",
        "        if i < 0:\n",
        "            diagonal.append(lines[j + abs(i)][j])\n",
        "        else:\n",
        "            diagonal.append(lines[j][j + i])\n",
        "\n",
        "    # diagonals.append(''.join(diagonal))\n",
        "    for m in re.finditer('XMAS', ''.join(diagonal)):\n",
        "        res += 1\n",
        "    for m in re.finditer('SAMX', ''.join(diagonal)):\n",
        "        res += 1\n",
        "\n",
        "for i in range(len(lines)):\n",
        "    diagonal = []\n",
        "    for j in range(i + 1):\n",
        "        diagonal.append(lines[i - j][j])\n",
        "\n",
        "    for m in re.finditer('XMAS', ''.join(diagonal)):\n",
        "        res += 1\n",
        "    for m in re.finditer('SAMX', ''.join(diagonal)):\n",
        "        res += 1\n",
        "\n",
        "\n",
        "for i in range(1, len(lines)):\n",
        "    diagonal = []\n",
        "    for j in range(len(lines) - i):\n",
        "        diagonal.append(lines[-j - 1][j + i])\n",
        "\n",
        "    for m in re.finditer('XMAS', ''.join(diagonal)):\n",
        "        res += 1\n",
        "    for m in re.finditer('SAMX', ''.join(diagonal)):\n",
        "        res += 1\n",
        "\n",
        "for i in range(len(lines)):\n",
        "    vertical = []\n",
        "    for line in lines:\n",
        "        vertical.append(line[i])\n",
        "\n",
        "    for m in re.finditer('XMAS', ''.join(vertical)):\n",
        "        res += 1\n",
        "    for m in re.finditer('SAMX', ''.join(vertical)):\n",
        "        res += 1\n",
        "\n",
        "res"
      ]
    },
    {
      "cell_type": "code",
      "execution_count": 204,
      "metadata": {
        "colab": {
          "base_uri": "https://localhost:8080/"
        },
        "id": "WrPKuT8GeSFD",
        "outputId": "4405255e-eae1-4db7-e492-5f848dd657a6"
      },
      "outputs": [
        {
          "data": {
            "text/plain": [
              "2046"
            ]
          },
          "execution_count": 204,
          "metadata": {},
          "output_type": "execute_result"
        }
      ],
      "source": [
        "res = 0\n",
        "for i in range(len(lines) - 2):\n",
        "    for j in range(len(lines[0]) - 3):\n",
        "        if ''.join([lines[i][j], lines[i + 1][j + 1], lines[i + 2][j + 2]]) in ('MAS', 'SAM') \\\n",
        "            and ''.join([lines[i][j + 2], lines[i + 1][j + 1], lines[i + 2][j]]) in ('MAS', 'SAM'):\n",
        "            res += 1\n",
        "\n",
        "res"
      ]
    },
    {
      "cell_type": "markdown",
      "metadata": {
        "id": "-KBZ8A7e6G9X"
      },
      "source": [
        "## Day 5"
      ]
    },
    {
      "cell_type": "code",
      "execution_count": 205,
      "metadata": {
        "colab": {
          "base_uri": "https://localhost:8080/"
        },
        "id": "6vfuzJI86Gdd",
        "outputId": "69606aa5-220c-447c-9f78-cd1d676bbbbc"
      },
      "outputs": [
        {
          "data": {
            "text/plain": [
              "1374"
            ]
          },
          "execution_count": 205,
          "metadata": {},
          "output_type": "execute_result"
        }
      ],
      "source": [
        "with open('day 5/input.txt') as f:\n",
        "    lines = f.readlines()\n",
        "\n",
        "len(lines)"
      ]
    },
    {
      "cell_type": "code",
      "execution_count": 206,
      "metadata": {
        "colab": {
          "base_uri": "https://localhost:8080/"
        },
        "id": "Ju9fvhHA7aAs",
        "outputId": "38cd1065-1af0-4607-9e18-8c92e9d92f2b"
      },
      "outputs": [
        {
          "data": {
            "text/plain": [
              "([['95', '51'],\n",
              "  ['92', '45'],\n",
              "  ['92', '39'],\n",
              "  ['55', '51'],\n",
              "  ['55', '91'],\n",
              "  ['55', '43'],\n",
              "  ['46', '93'],\n",
              "  ['46', '69'],\n",
              "  ['46', '84'],\n",
              "  ['46', '99']],\n",
              " [['37',\n",
              "   '45',\n",
              "   '96',\n",
              "   '69',\n",
              "   '95',\n",
              "   '88',\n",
              "   '81',\n",
              "   '24',\n",
              "   '52',\n",
              "   '86',\n",
              "   '18',\n",
              "   '55',\n",
              "   '68',\n",
              "   '76',\n",
              "   '61',\n",
              "   '57',\n",
              "   '58',\n",
              "   '23',\n",
              "   '62',\n",
              "   '91',\n",
              "   '54'],\n",
              "  ['97', '71', '66', '28', '95', '86', '18', '76', '61', '14', '57'],\n",
              "  ['11', '58', '62', '65', '82', '76', '43'],\n",
              "  ['35',\n",
              "   '93',\n",
              "   '66',\n",
              "   '42',\n",
              "   '86',\n",
              "   '45',\n",
              "   '88',\n",
              "   '67',\n",
              "   '96',\n",
              "   '26',\n",
              "   '73',\n",
              "   '71',\n",
              "   '95',\n",
              "   '81',\n",
              "   '24'],\n",
              "  ['64',\n",
              "   '95',\n",
              "   '88',\n",
              "   '81',\n",
              "   '24',\n",
              "   '52',\n",
              "   '86',\n",
              "   '18',\n",
              "   '55',\n",
              "   '68',\n",
              "   '76',\n",
              "   '61',\n",
              "   '14',\n",
              "   '44',\n",
              "   '57',\n",
              "   '58',\n",
              "   '23',\n",
              "   '62',\n",
              "   '91',\n",
              "   '51',\n",
              "   '38',\n",
              "   '65',\n",
              "   '32'],\n",
              "  ['69',\n",
              "   '88',\n",
              "   '81',\n",
              "   '24',\n",
              "   '86',\n",
              "   '18',\n",
              "   '55',\n",
              "   '68',\n",
              "   '76',\n",
              "   '61',\n",
              "   '14',\n",
              "   '44',\n",
              "   '57',\n",
              "   '58',\n",
              "   '23',\n",
              "   '62',\n",
              "   '91',\n",
              "   '54',\n",
              "   '51',\n",
              "   '38',\n",
              "   '65'],\n",
              "  ['54',\n",
              "   '65',\n",
              "   '32',\n",
              "   '92',\n",
              "   '82',\n",
              "   '39',\n",
              "   '43',\n",
              "   '99',\n",
              "   '93',\n",
              "   '73',\n",
              "   '42',\n",
              "   '84',\n",
              "   '26',\n",
              "   '97',\n",
              "   '19'],\n",
              "  ['92', '46', '82', '39', '43', '73', '84', '67', '19', '71', '96'],\n",
              "  ['65',\n",
              "   '32',\n",
              "   '67',\n",
              "   '99',\n",
              "   '77',\n",
              "   '57',\n",
              "   '39',\n",
              "   '93',\n",
              "   '11',\n",
              "   '51',\n",
              "   '42',\n",
              "   '63',\n",
              "   '91',\n",
              "   '58',\n",
              "   '62',\n",
              "   '38',\n",
              "   '73'],\n",
              "  ['92', '26', '93', '66', '51', '39', '42']])"
            ]
          },
          "execution_count": 206,
          "metadata": {},
          "output_type": "execute_result"
        }
      ],
      "source": [
        "rules = []\n",
        "updates = []\n",
        "t = 0\n",
        "for i, line in enumerate(lines):\n",
        "    if line == '\\n':\n",
        "        t = 1\n",
        "        continue\n",
        "    if t == 0:\n",
        "        rules.append(line[:-1].split('|'))\n",
        "    if t == 1:\n",
        "        updates.append(line[:-1].split(','))\n",
        "\n",
        "rules[:10], updates[:10]"
      ]
    },
    {
      "cell_type": "code",
      "execution_count": 207,
      "metadata": {
        "colab": {
          "base_uri": "https://localhost:8080/"
        },
        "id": "yRX9me6j9JEg",
        "outputId": "12e76785-0d6d-4643-f845-39df3c224909"
      },
      "outputs": [
        {
          "data": {
            "text/plain": [
              "6260"
            ]
          },
          "execution_count": 207,
          "metadata": {},
          "output_type": "execute_result"
        }
      ],
      "source": [
        "from collections import defaultdict\n",
        "\n",
        "res = 0\n",
        "for update in updates:\n",
        "    inds = defaultdict(int)\n",
        "    for i, e in enumerate(update):\n",
        "        inds[int(e)] = i\n",
        "\n",
        "\n",
        "    if all(inds.get(int(a), -1) < inds.get(int(b), 100) for a, b in rules):\n",
        "        res += int(update[len(update) // 2])\n",
        "\n",
        "res"
      ]
    },
    {
      "cell_type": "code",
      "execution_count": 208,
      "metadata": {
        "colab": {
          "base_uri": "https://localhost:8080/"
        },
        "id": "fsUk6ECzCzkl",
        "outputId": "05d89d8e-6e0e-47b7-93d9-3c4f27574a8d"
      },
      "outputs": [
        {
          "data": {
            "text/plain": [
              "5346"
            ]
          },
          "execution_count": 208,
          "metadata": {},
          "output_type": "execute_result"
        }
      ],
      "source": [
        "res = 0\n",
        "for update in updates:\n",
        "    inds = defaultdict(int)\n",
        "    prev_t, t = -1, 0\n",
        "    for i, e in enumerate(update):\n",
        "        inds[int(e)] = i\n",
        "\n",
        "    while prev_t != t:\n",
        "        prev_t = t\n",
        "        for a, b in rules:\n",
        "            if inds.get(int(a), -1) > inds.get(int(b), 100):\n",
        "                t += 1\n",
        "                i, j = inds.get(int(a), -1), inds.get(int(b), 100)\n",
        "                update[i], update[j] = update[j], update[i]\n",
        "                inds[int(a)], inds[int(b)] = inds[int(b)], inds[int(a)]\n",
        "                break\n",
        "\n",
        "    if t:\n",
        "        res += int(update[len(update) // 2])\n",
        "\n",
        "res"
      ]
    },
    {
      "cell_type": "markdown",
      "metadata": {
        "id": "1FnI8tt_UL1Y"
      },
      "source": [
        "## Day 6"
      ]
    },
    {
      "cell_type": "code",
      "execution_count": 209,
      "metadata": {
        "colab": {
          "base_uri": "https://localhost:8080/"
        },
        "id": "hxM3_VFkUKdr",
        "outputId": "ee7bf039-a7d3-4cbb-8864-6685e464ac8d"
      },
      "outputs": [
        {
          "data": {
            "text/plain": [
              "(130, 130)"
            ]
          },
          "execution_count": 209,
          "metadata": {},
          "output_type": "execute_result"
        }
      ],
      "source": [
        "with open('day 6/input.txt') as f:\n",
        "    lines = f.readlines()\n",
        "\n",
        "m, n = len(lines), len(lines[0]) - 1\n",
        "m, n"
      ]
    },
    {
      "cell_type": "code",
      "execution_count": 210,
      "metadata": {
        "colab": {
          "base_uri": "https://localhost:8080/"
        },
        "id": "cnNJLXgSWY_A",
        "outputId": "f9689ccc-25db-4616-a357-3deb3812ebcd"
      },
      "outputs": [
        {
          "data": {
            "text/plain": [
              "(79, 87)"
            ]
          },
          "execution_count": 210,
          "metadata": {},
          "output_type": "execute_result"
        }
      ],
      "source": [
        "dirs = [(-1, 0), (0, 1), (1, 0), (0, -1)]\n",
        "cur_pos, cur_dir = None, 0\n",
        "\n",
        "for i, line in enumerate(lines):\n",
        "    for j, e in enumerate(line[:-1]):\n",
        "        if e == '^':\n",
        "            cur_pos = (i, j)\n",
        "            break\n",
        "\n",
        "cur_pos"
      ]
    },
    {
      "cell_type": "code",
      "execution_count": 211,
      "metadata": {
        "colab": {
          "base_uri": "https://localhost:8080/"
        },
        "id": "l2hv34yWXedf",
        "outputId": "1ed73b09-6744-43d5-c053-2ad9c095891f"
      },
      "outputs": [
        {
          "name": "stdout",
          "output_type": "stream",
          "text": [
            "4602\n"
          ]
        }
      ],
      "source": [
        "seen = set()\n",
        "def simulate_route(cur_pos, cur_dir):\n",
        "    visited = set()\n",
        "\n",
        "    while True:\n",
        "        visited.add((cur_pos, cur_dir))\n",
        "        seen.add(cur_pos)\n",
        "        next_pos = (cur_pos[0] + dirs[cur_dir][0], cur_pos[1] + dirs[cur_dir][1])\n",
        "        if not (0 <= next_pos[0] <= m - 1 and 0 <= next_pos[1] <= n - 1):\n",
        "            break\n",
        "        if lines[next_pos[0]][next_pos[1]] == '#':\n",
        "            cur_dir = (cur_dir + 1) % 4\n",
        "        else:\n",
        "          cur_pos = next_pos\n",
        "        if (cur_pos, cur_dir) in visited:\n",
        "            return 1\n",
        "\n",
        "    return 0\n",
        "\n",
        "simulate_route(cur_pos, cur_dir)\n",
        "print(len(seen))"
      ]
    },
    {
      "cell_type": "code",
      "execution_count": 212,
      "metadata": {
        "id": "-0ctR0Ubi3wi"
      },
      "outputs": [],
      "source": [
        "# import sys\n",
        "# from functools import cache\n",
        "\n",
        "# sys.setrecursionlimit(130 * 130)\n",
        "\n",
        "\n",
        "\n",
        "# dirs = [(-1, 0), (0, 1), (1, 0), (0, -1)]\n",
        "\n",
        "# def search(cur_pos, cur_dir, lines):\n",
        "#     # Check if the current position is out of bounds\n",
        "#     if not (0 < cur_pos[0] < m - 1 and 0 < cur_pos[1] < n - 1):\n",
        "#         return False  # Out of bounds, no loop found\n",
        "\n",
        "#     next_pos = (cur_pos[0] + dirs[cur_dir][0], cur_pos[1] + dirs[cur_dir][1])\n",
        "\n",
        "#     # If the next position is a wall, turn right (change direction)\n",
        "#     if lines[next_pos[0]][next_pos[1]] == '#':\n",
        "#         if cur_pos in path and path[cur_pos] == (cur_dir + 1) % 4:\n",
        "#             return True\n",
        "#         return search(cur_pos, (cur_dir + 1) % 4, lines)\n",
        "\n",
        "#     path[cur_pos] = cur_dir\n",
        "#     # Continue searching from the next position\n",
        "#     return search(next_pos, cur_dir, lines)"
      ]
    },
    {
      "cell_type": "code",
      "execution_count": 213,
      "metadata": {
        "id": "idv4HwKr2K3q"
      },
      "outputs": [],
      "source": [
        "lines = [list(line[:-1]) for line in lines]"
      ]
    },
    {
      "cell_type": "code",
      "execution_count": 214,
      "metadata": {
        "id": "4kQQsNem4SLd"
      },
      "outputs": [],
      "source": [
        "# lines"
      ]
    },
    {
      "cell_type": "code",
      "execution_count": 215,
      "metadata": {
        "colab": {
          "base_uri": "https://localhost:8080/"
        },
        "id": "HF803h-pbITS",
        "outputId": "52bc3a7b-33d6-4f4b-c21c-aa75afb9d03d"
      },
      "outputs": [
        {
          "data": {
            "text/plain": [
              "1780"
            ]
          },
          "execution_count": 215,
          "metadata": {},
          "output_type": "execute_result"
        }
      ],
      "source": [
        "cur_pos, cur_dir = (79, 87), 0\n",
        "# cur_pos, cur_dir = (6, 4), 0\n",
        "loop_obs = set()\n",
        "while 0 < cur_pos[0] < m - 1 and 0 < cur_pos[1] < n - 1:\n",
        "    next_pos = (cur_pos[0] + dirs[cur_dir][0], cur_pos[1] + dirs[cur_dir][1])\n",
        "\n",
        "    # If the next position is a wall, turn right\n",
        "    if lines[next_pos[0]][next_pos[1]] == '#':\n",
        "        cur_dir = (cur_dir + 1) % 4\n",
        "        continue\n",
        "\n",
        "\n",
        "    # Check for loops\n",
        "    lines[next_pos[0]][next_pos[1]] = '#'\n",
        "    if simulate_route(cur_pos, cur_dir):\n",
        "        loop_obs.add(next_pos)\n",
        "    lines[next_pos[0]][next_pos[1]] = '.'\n",
        "    # Mark the current position and direction as visited\n",
        "    cur_pos = next_pos\n",
        "\n",
        "# for pos in loop_obs:\n",
        "#     lines[pos[0]][pos[1]] = 'O'\n",
        "\n",
        "len(loop_obs) if (79, 87) not in loop_obs else len(loop_obs) - 1"
      ]
    },
    {
      "cell_type": "code",
      "execution_count": 216,
      "metadata": {
        "colab": {
          "base_uri": "https://localhost:8080/"
        },
        "id": "9AoQu_KG6RaL",
        "outputId": "1e1afdd4-4e35-4884-8abd-2658f728e276"
      },
      "outputs": [
        {
          "name": "stdout",
          "output_type": "stream",
          "text": [
            "Number of valid positions: 1703\n"
          ]
        }
      ],
      "source": [
        "lines[79][87] = '^'\n",
        "def parse_grid(lines):\n",
        "    \"\"\"Parse the input grid and find the guard's starting position and direction.\"\"\"\n",
        "    directions = {'^': 0, '>': 1, 'v': 2, '<': 3}\n",
        "    grid = []\n",
        "    start_pos = None\n",
        "    start_dir = None\n",
        "\n",
        "    for i, line in enumerate(lines):\n",
        "        row = list(line)\n",
        "        for j, cell in enumerate(row):\n",
        "            if cell in directions:\n",
        "                start_pos = (i, j)\n",
        "                start_dir = directions[cell]\n",
        "                row[j] = '.'  # Replace guard's starting position with empty space\n",
        "        grid.append(row)\n",
        "    return grid, start_pos, start_dir\n",
        "\n",
        "def simulate_movement(grid, start_pos, start_dir):\n",
        "    \"\"\"Simulate the guard's movement and track visited positions.\"\"\"\n",
        "    dirs = [(-1, 0), (0, 1), (1, 0), (0, -1)]  # Up, Right, Down, Left\n",
        "    m, n = len(grid), len(grid[0])\n",
        "    visited = set()\n",
        "    pos, direction = start_pos, start_dir\n",
        "\n",
        "    while True:\n",
        "        # Record current position and direction\n",
        "        visited.add((pos, direction))\n",
        "        next_pos = (pos[0] + dirs[direction][0], pos[1] + dirs[direction][1])\n",
        "\n",
        "        # If out of bounds, stop\n",
        "        if not (0 <= next_pos[0] < m and 0 <= next_pos[1] < n):\n",
        "            break\n",
        "\n",
        "        # If obstacle, turn right\n",
        "        if grid[next_pos[0]][next_pos[1]] == '#':\n",
        "            direction = (direction + 1) % 4\n",
        "        else:\n",
        "            pos = next_pos  # Move forward\n",
        "\n",
        "        # If revisiting the same position and direction, loop detected\n",
        "        if (pos, direction) in visited:\n",
        "            return True\n",
        "\n",
        "    return False\n",
        "\n",
        "def find_loop_positions(grid, start_pos, start_dir):\n",
        "    \"\"\"Find all positions where placing an obstruction causes a loop.\"\"\"\n",
        "    loop_positions = []\n",
        "    m, n = len(grid), len(grid[0])\n",
        "\n",
        "    for i in range(m):\n",
        "        for j in range(n):\n",
        "            if grid[i][j] == '.' and (i, j) != start_pos:\n",
        "                # Temporarily place an obstruction\n",
        "                grid[i][j] = '#'\n",
        "\n",
        "                # Check if placing the obstruction causes a loop\n",
        "                if simulate_movement(grid, start_pos, start_dir):\n",
        "                    loop_positions.append((i, j))\n",
        "\n",
        "                # Remove the obstruction\n",
        "                grid[i][j] = '.'\n",
        "\n",
        "    return loop_positions\n",
        "\n",
        "\n",
        "# Parse the input grid\n",
        "grid, start_pos, start_dir = parse_grid(lines)\n",
        "\n",
        "# Find valid obstruction positions\n",
        "loop_positions = find_loop_positions(grid, start_pos, start_dir)\n",
        "\n",
        "# Output the result\n",
        "print(\"Number of valid positions:\", len(loop_positions))\n",
        "# print(\"Valid positions:\", loop_positions)"
      ]
    },
    {
      "cell_type": "markdown",
      "metadata": {
        "id": "P2MvfCY19c9a"
      },
      "source": [
        "## Day 7\n"
      ]
    },
    {
      "cell_type": "code",
      "execution_count": 217,
      "metadata": {
        "colab": {
          "base_uri": "https://localhost:8080/"
        },
        "id": "m3_8ewrX9mGm",
        "outputId": "328d5a89-b4d9-4dc4-e17f-617b6c9924e8"
      },
      "outputs": [
        {
          "data": {
            "text/plain": [
              "850"
            ]
          },
          "execution_count": 217,
          "metadata": {},
          "output_type": "execute_result"
        }
      ],
      "source": [
        "with open('day 7/input.txt') as f:\n",
        "    lines = f.readlines()\n",
        "\n",
        "len(lines)"
      ]
    },
    {
      "cell_type": "code",
      "execution_count": 218,
      "metadata": {
        "colab": {
          "base_uri": "https://localhost:8080/"
        },
        "id": "eInYu92V--mF",
        "outputId": "99ddbaf3-f613-4655-8206-838a9923aa3e"
      },
      "outputs": [
        {
          "data": {
            "text/plain": [
              "3267"
            ]
          },
          "execution_count": 218,
          "metadata": {},
          "output_type": "execute_result"
        }
      ],
      "source": [
        "(81 + 40) * 27"
      ]
    },
    {
      "cell_type": "code",
      "execution_count": 219,
      "metadata": {
        "colab": {
          "base_uri": "https://localhost:8080/"
        },
        "id": "HYc3VRvwBYRK",
        "outputId": "48f6ab22-ed16-47d4-c73f-4f5e69db99c4"
      },
      "outputs": [
        {
          "name": "stdout",
          "output_type": "stream",
          "text": [
            "[487656, 65816524826, 90059295, 2109036, 191815905829, 289979206, 26683869669, 829027, 1182822246, 12212256] [['43', '7', '54', '3', '6', '28'], ['3', '29', '7', '451', '5', '64', '26', '1', '1', '9'], ['900', '1', '592', '92'], ['59', '8', '133', '7', '83', '1', '6'], ['7', '4', '2', '7', '1', '979', '9', '8', '1', '638', '9'], ['49', '587', '234', '9', '206'], ['51', '654', '837', '8', '69'], ['827', '34', '83', '85', '2', '5'], ['41', '2', '7', '40', '8', '6', '839', '7', '4', '8'], ['8', '4', '31', '4', '1', '7', '655', '4', '9', '6', '8', '7']]\n"
          ]
        }
      ],
      "source": [
        "targets, eqs = [], []\n",
        "for line in lines:\n",
        "    target, eq = line[:-1].split(': ')\n",
        "    eq = eq.split(' ')\n",
        "    targets.append(int(target))\n",
        "    eqs.append(eq)\n",
        "\n",
        "print(targets[:10], eqs[:10])"
      ]
    },
    {
      "cell_type": "code",
      "execution_count": 220,
      "metadata": {
        "id": "sQG72GXb_dzv"
      },
      "outputs": [],
      "source": [
        "from functools import cache\n",
        "\n",
        "@cache\n",
        "def dp(i, op, cur, target, eq):\n",
        "    if i == len(eq) - 1:\n",
        "        return cur == target\n",
        "\n",
        "    return dp(i + 1, 0, cur + int(eq[i + 1]), target, eq) or dp(i + 1, 1, cur * int(eq[i + 1]), target, eq)\n"
      ]
    },
    {
      "cell_type": "code",
      "execution_count": 221,
      "metadata": {
        "colab": {
          "base_uri": "https://localhost:8080/"
        },
        "id": "rH86q6_4Co9m",
        "outputId": "5f9dd62f-ce1c-4043-d151-cba71b2db185"
      },
      "outputs": [
        {
          "data": {
            "text/plain": [
              "1260333054159"
            ]
          },
          "execution_count": 221,
          "metadata": {},
          "output_type": "execute_result"
        }
      ],
      "source": [
        "ans = 0\n",
        "for target, eq in zip(targets, eqs):\n",
        "    if dp(0, 0, int(eq[0]), target, tuple(eq)):\n",
        "        ans += target\n",
        "\n",
        "ans"
      ]
    },
    {
      "cell_type": "code",
      "execution_count": 258,
      "metadata": {
        "id": "5Hlsur5kF9Ta"
      },
      "outputs": [],
      "source": [
        "from functools import cache\n",
        "\n",
        "@cache\n",
        "def dp(i, op, cur, target, eq):\n",
        "    if i == len(eq) - 1:\n",
        "        return cur == target\n",
        "\n",
        "    return dp(i + 1, 2, int(str(cur) + eq[i + 1]), target, eq) or dp(i + 1, 0, cur + int(eq[i + 1]), target, eq) or dp(i + 1, 1, cur * int(eq[i + 1]), target, eq)\n"
      ]
    },
    {
      "cell_type": "code",
      "execution_count": 259,
      "metadata": {
        "colab": {
          "base_uri": "https://localhost:8080/"
        },
        "id": "PM66yua8GzFR",
        "outputId": "9ce805c4-03db-4981-d60d-57671b71c3ed"
      },
      "outputs": [
        {
          "data": {
            "text/plain": [
              "162042343638683"
            ]
          },
          "execution_count": 259,
          "metadata": {},
          "output_type": "execute_result"
        }
      ],
      "source": [
        "ans = 0\n",
        "for target, eq in zip(targets, eqs):\n",
        "    if dp(0, 0, int(eq[0]), target, tuple(eq)):\n",
        "        ans += target\n",
        "\n",
        "ans"
      ]
    },
    {
      "cell_type": "markdown",
      "metadata": {
        "id": "7IDx5JODHglG"
      },
      "source": [
        "## Day 8"
      ]
    },
    {
      "cell_type": "code",
      "execution_count": 224,
      "metadata": {
        "colab": {
          "base_uri": "https://localhost:8080/"
        },
        "id": "MwZaOm_eHl-N",
        "outputId": "02fa4714-bb43-4285-90b8-561bf657ebc7"
      },
      "outputs": [
        {
          "data": {
            "text/plain": [
              "(50, 50)"
            ]
          },
          "execution_count": 224,
          "metadata": {},
          "output_type": "execute_result"
        }
      ],
      "source": [
        "with open('day 8/input.txt') as f:\n",
        "    lines = f.readlines()\n",
        "\n",
        "m, n = len(lines), len(lines[0]) - 1\n",
        "m, n"
      ]
    },
    {
      "cell_type": "code",
      "execution_count": 225,
      "metadata": {
        "id": "Qzm-cZZPKkli"
      },
      "outputs": [],
      "source": [
        "from dataclasses import dataclass\n",
        "\n",
        "@dataclass(unsafe_hash=True)\n",
        "class Vector:\n",
        "    x: int\n",
        "    y: int\n",
        "\n",
        "    def __add__(self, other):\n",
        "        return Vector(self.x + other.x, self.y + other.y)\n",
        "\n",
        "    def __sub__(self, other):\n",
        "        return Vector(self.x - other.x, self.y - other.y)\n",
        "\n",
        "    def __mul__(self, k: int):\n",
        "        return Vector(self.x * k, self.y * k)\n"
      ]
    },
    {
      "cell_type": "code",
      "execution_count": 226,
      "metadata": {
        "colab": {
          "base_uri": "https://localhost:8080/"
        },
        "id": "Abojwi5OLx5U",
        "outputId": "0ac95873-4f62-4edf-89a3-0a551ac4ddf5"
      },
      "outputs": [
        {
          "data": {
            "text/plain": [
              "{Vector(x=1, y=2): 1, Vector(x=1, y=3): 2}"
            ]
          },
          "execution_count": 226,
          "metadata": {},
          "output_type": "execute_result"
        }
      ],
      "source": [
        "a, b = Vector(1, 2), Vector(3, 4)\n",
        "a + b, a - b\n",
        "a + Vector(1, 1) * 2 == b\n",
        "x= {}\n",
        "x[Vector(1, 2)] = 1\n",
        "x[Vector(1, 3)] = 2\n",
        "x"
      ]
    },
    {
      "cell_type": "code",
      "execution_count": 227,
      "metadata": {
        "colab": {
          "base_uri": "https://localhost:8080/"
        },
        "id": "7VbNH8ILMzDP",
        "outputId": "bf473597-8b0c-4e39-cd6f-b407a4eafdb1"
      },
      "outputs": [
        {
          "data": {
            "text/plain": [
              "166"
            ]
          },
          "execution_count": 227,
          "metadata": {},
          "output_type": "execute_result"
        }
      ],
      "source": [
        "antennas = {}\n",
        "for i, line in enumerate(lines):\n",
        "    for j, e in enumerate(line[:-1]):\n",
        "        if e != '.':\n",
        "            antennas[Vector(i, j)] = e\n",
        "\n",
        "len(antennas)"
      ]
    },
    {
      "cell_type": "code",
      "execution_count": 228,
      "metadata": {
        "colab": {
          "base_uri": "https://localhost:8080/"
        },
        "id": "M_rGsLddTOjE",
        "outputId": "5fc1dcb9-ae95-4f33-f47a-baae59391975"
      },
      "outputs": [
        {
          "data": {
            "text/plain": [
              "289"
            ]
          },
          "execution_count": 228,
          "metadata": {},
          "output_type": "execute_result"
        }
      ],
      "source": [
        "from itertools import product\n",
        "\n",
        "antinodes = set()\n",
        "for a, b in product(antennas, repeat=2):\n",
        "    if a == b or antennas[a] != antennas[b]:\n",
        "        continue\n",
        "    u, v = a + (b - a) * 2, b + (a - b) * 2\n",
        "    if 0 <= u.x < m and 0 <= u.y < n:\n",
        "        antinodes.add(u)\n",
        "    if 0 <= v.x < m and 0 <= v.y < n:\n",
        "        antinodes.add(v)\n",
        "\n",
        "len(antinodes)"
      ]
    },
    {
      "cell_type": "code",
      "execution_count": 229,
      "metadata": {
        "colab": {
          "base_uri": "https://localhost:8080/"
        },
        "id": "cts84sG0eML3",
        "outputId": "f858296e-44d5-4531-99a3-33f4cabe1aed"
      },
      "outputs": [
        {
          "data": {
            "text/plain": [
              "1030"
            ]
          },
          "execution_count": 229,
          "metadata": {},
          "output_type": "execute_result"
        }
      ],
      "source": [
        "from itertools import product\n",
        "\n",
        "antinodes = set()\n",
        "for a, b in product(antennas, repeat=2):\n",
        "    if a == b or antennas[a] != antennas[b]:\n",
        "        continue\n",
        "\n",
        "    p1, p2, t = a, b, 0\n",
        "    while (0 <= p1.x < m and 0 <= p1.y < n) or (0 <= p2.x < m and 0 <= p2.y < n):\n",
        "        p1, p2 = a + (b - a) * t, b + (a - b) * t\n",
        "        if 0 <= p1.x < m and 0 <= p1.y < n:\n",
        "            antinodes.add(p1)\n",
        "        if 0 <= p2.x < m and 0 <= p2.y < n:\n",
        "            antinodes.add(p2)\n",
        "        t += 1\n",
        "\n",
        "\n",
        "len(antinodes)"
      ]
    },
    {
      "cell_type": "markdown",
      "metadata": {
        "id": "-ENKvUR1ev08"
      },
      "source": [
        "## Day 9"
      ]
    },
    {
      "cell_type": "code",
      "execution_count": 230,
      "metadata": {
        "colab": {
          "base_uri": "https://localhost:8080/"
        },
        "id": "7vddOS56ezYi",
        "outputId": "20642985-8c94-4a7a-e4d3-90e237b906cb"
      },
      "outputs": [
        {
          "data": {
            "text/plain": [
              "19999"
            ]
          },
          "execution_count": 230,
          "metadata": {},
          "output_type": "execute_result"
        }
      ],
      "source": [
        "with open('day 9/input.txt') as f:\n",
        "    lines = f.readlines()\n",
        "\n",
        "len(lines[0]) - 1"
      ]
    },
    {
      "cell_type": "code",
      "execution_count": 231,
      "metadata": {
        "colab": {
          "base_uri": "https://localhost:8080/"
        },
        "id": "N6lgrysai8n6",
        "outputId": "35564182-3b04-40b8-c23d-a4ca31a680f8"
      },
      "outputs": [
        {
          "data": {
            "text/plain": [
              "(9999, 10000, 49744)"
            ]
          },
          "execution_count": 231,
          "metadata": {},
          "output_type": "execute_result"
        }
      ],
      "source": [
        "memory = {}\n",
        "id = 0\n",
        "cur_ptr = 0\n",
        "allocated = 0\n",
        "for i, e in enumerate(lines[0][:-1]):\n",
        "    if i % 2:\n",
        "        for ptr in range(cur_ptr, cur_ptr + int(e)):\n",
        "            memory[ptr] = -1\n",
        "\n",
        "        cur_ptr += int(e)\n",
        "    else:\n",
        "        for ptr in range(cur_ptr, cur_ptr + int(e)):\n",
        "            memory[ptr] = id\n",
        "\n",
        "        allocated += int(e)\n",
        "        cur_ptr += int(e)\n",
        "        id += 1\n",
        "\n",
        "memory[2]\n",
        "memory[len(memory)-1], id, allocated"
      ]
    },
    {
      "cell_type": "code",
      "execution_count": 232,
      "metadata": {
        "colab": {
          "base_uri": "https://localhost:8080/"
        },
        "id": "33014xKOkRi0",
        "outputId": "389755e7-a06f-479c-d172-8336f199e9d1"
      },
      "outputs": [
        {
          "data": {
            "text/plain": [
              "9999"
            ]
          },
          "execution_count": 232,
          "metadata": {},
          "output_type": "execute_result"
        }
      ],
      "source": [
        "first_free = 2\n",
        "last_allocated = len(memory) - 1\n",
        "while first_free < allocated:\n",
        "    memory[first_free], memory[last_allocated] = memory[last_allocated], -1\n",
        "    while memory[first_free] != -1:\n",
        "        first_free += 1\n",
        "    while memory[last_allocated] == -1:\n",
        "        last_allocated -= 1\n",
        "\n",
        "first_free, last_allocated\n",
        "memory[2]"
      ]
    },
    {
      "cell_type": "code",
      "execution_count": 233,
      "metadata": {
        "colab": {
          "base_uri": "https://localhost:8080/",
          "height": 36
        },
        "id": "aKEigP5Bo1XQ",
        "outputId": "a0a9a9ed-1415-4f84-a8a8-7c335ba021c7"
      },
      "outputs": [],
      "source": [
        "# for ptr, id in memory.items():\n",
        "#     if ptr < 100:\n",
        "#         print(id)\n",
        "# ''.join(str(id) for id in memory.values())"
      ]
    },
    {
      "cell_type": "markdown",
      "metadata": {
        "id": "q3xspVqWqT1V"
      },
      "source": [
        "0099811188827773336446555566.............."
      ]
    },
    {
      "cell_type": "code",
      "execution_count": 234,
      "metadata": {
        "colab": {
          "base_uri": "https://localhost:8080/"
        },
        "id": "kYaPupbQnGuT",
        "outputId": "92812432-961d-4b22-f087-69c94ab1579f"
      },
      "outputs": [
        {
          "data": {
            "text/plain": [
              "6283404590840"
            ]
          },
          "execution_count": 234,
          "metadata": {},
          "output_type": "execute_result"
        }
      ],
      "source": [
        "checksum = 0\n",
        "for ptr, id in memory.items():\n",
        "    if id == -1:\n",
        "        continue\n",
        "    checksum += id * ptr\n",
        "\n",
        "checksum"
      ]
    },
    {
      "cell_type": "code",
      "execution_count": 235,
      "metadata": {
        "colab": {
          "base_uri": "https://localhost:8080/"
        },
        "id": "Y-R1V67Jscn7",
        "outputId": "af6bac32-2d3d-4829-966d-3ec029c9026e"
      },
      "outputs": [
        {
          "data": {
            "text/plain": [
              "([(2, 2),\n",
              "  (5, 7),\n",
              "  (20, 7),\n",
              "  (36, 1),\n",
              "  (40, 5),\n",
              "  (54, 9),\n",
              "  (71, 8),\n",
              "  (83, 2),\n",
              "  (87, 7),\n",
              "  (98, 1)],\n",
              " [(0, 1, 0),\n",
              "  (1, 1, 1),\n",
              "  (4, 1, 2),\n",
              "  (12, 8, 3),\n",
              "  (27, 9, 4),\n",
              "  (37, 3, 5),\n",
              "  (45, 4, 6),\n",
              "  (49, 5, 7),\n",
              "  (63, 8, 8),\n",
              "  (79, 4, 9)])"
            ]
          },
          "execution_count": 235,
          "metadata": {},
          "output_type": "execute_result"
        }
      ],
      "source": [
        "free_chunks = []\n",
        "allocated_chunks = []\n",
        "id = 0\n",
        "cur_ptr = 0\n",
        "for i, e in enumerate(lines[0][:-1]):\n",
        "    if i % 2:\n",
        "        if int(e) > 0:\n",
        "            free_chunks.append((cur_ptr, int(e)))\n",
        "            cur_ptr += int(e)\n",
        "    elif int(e):\n",
        "        allocated_chunks.append((cur_ptr, int(e), id))\n",
        "        cur_ptr += int(e)\n",
        "        id += 1\n",
        "\n",
        "free_chunks[:10], allocated_chunks[:10]"
      ]
    },
    {
      "cell_type": "code",
      "execution_count": 236,
      "metadata": {
        "id": "ieYYW5zNufPe"
      },
      "outputs": [],
      "source": [
        "from collections import deque\n",
        "\n",
        "\n",
        "\n",
        "free_chunks, moved_chunks = deque(free_chunks), []\n",
        "stayed_chunks = []\n",
        "while allocated_chunks:\n",
        "    free_ptr, free_size = free_chunks.popleft()\n",
        "    allocated_ptr, allocated_size, allocated_id = allocated_chunks.pop()\n",
        "    cnt = 0\n",
        "\n",
        "    while cnt < len(free_chunks) and free_ptr < allocated_ptr and allocated_size > free_size:\n",
        "        free_chunks.append((free_ptr, free_size))\n",
        "        free_ptr, free_size = free_chunks.popleft()\n",
        "        cnt += 1\n",
        "\n",
        "\n",
        "\n",
        "    if free_ptr < allocated_ptr and allocated_size <= free_size:\n",
        "        moved_chunks.append((free_ptr, allocated_size, allocated_id))\n",
        "        if free_size > allocated_size:\n",
        "            free_chunks.appendleft((free_ptr + allocated_size, free_size - allocated_size))\n",
        "    else:\n",
        "        stayed_chunks.append((allocated_ptr, allocated_size, allocated_id))\n",
        "        free_chunks.appendleft((free_ptr, free_size))\n",
        "\n",
        "\n",
        "    free_chunks.rotate(cnt)\n"
      ]
    },
    {
      "cell_type": "code",
      "execution_count": 237,
      "metadata": {
        "colab": {
          "base_uri": "https://localhost:8080/"
        },
        "id": "Fzfjwnbqz6s6",
        "outputId": "58f78324-b78c-4fdd-b4f8-7725b3d71204"
      },
      "outputs": [
        {
          "data": {
            "text/plain": [
              "[(5, 4, 9999),\n",
              " (20, 4, 9998),\n",
              " (54, 9, 9997),\n",
              " (40, 5, 9996),\n",
              " (71, 4, 9995),\n",
              " (75, 4, 9994),\n",
              " (87, 6, 9993),\n",
              " (107, 4, 9992),\n",
              " (2, 1, 9991),\n",
              " (124, 6, 9990)]"
            ]
          },
          "execution_count": 237,
          "metadata": {},
          "output_type": "execute_result"
        }
      ],
      "source": [
        "moved_chunks[:10]"
      ]
    },
    {
      "cell_type": "code",
      "execution_count": 238,
      "metadata": {
        "colab": {
          "base_uri": "https://localhost:8080/"
        },
        "id": "FF1gLXC50BG9",
        "outputId": "8eb2e43d-f0d2-4309-b52e-9de9552fa32f"
      },
      "outputs": [
        {
          "data": {
            "text/plain": [
              "[(51691, 9, 5454),\n",
              " (51568, 9, 5440),\n",
              " (51518, 9, 5435),\n",
              " (51407, 9, 5423),\n",
              " (51332, 9, 5412),\n",
              " (51147, 9, 5392),\n",
              " (50949, 9, 5368),\n",
              " (50859, 9, 5360),\n",
              " (50766, 9, 5352),\n",
              " (50714, 9, 5346)]"
            ]
          },
          "execution_count": 238,
          "metadata": {},
          "output_type": "execute_result"
        }
      ],
      "source": [
        "stayed_chunks[:10]"
      ]
    },
    {
      "cell_type": "markdown",
      "metadata": {
        "id": "tOpqsw8u0IlJ"
      },
      "source": [
        "00992111777.44.333....5555.6666.....8888.."
      ]
    },
    {
      "cell_type": "code",
      "execution_count": 239,
      "metadata": {
        "colab": {
          "base_uri": "https://localhost:8080/"
        },
        "id": "YpJnbzj6wXwl",
        "outputId": "abf779a3-3b86-4bf1-d9f9-a2927fa75752"
      },
      "outputs": [
        {
          "data": {
            "text/plain": [
              "6304576012713"
            ]
          },
          "execution_count": 239,
          "metadata": {},
          "output_type": "execute_result"
        }
      ],
      "source": [
        "checksum = 0\n",
        "for ptr, size, id in moved_chunks:\n",
        "    checksum += id * (2 * ptr + size - 1) * size // 2\n",
        "\n",
        "for ptr, size, id in stayed_chunks:\n",
        "    checksum += id * (2 * ptr + size - 1) * size // 2\n",
        "\n",
        "checksum"
      ]
    },
    {
      "cell_type": "code",
      "execution_count": 240,
      "metadata": {
        "colab": {
          "base_uri": "https://localhost:8080/"
        },
        "id": "JpjiVpGdDoPp",
        "outputId": "84edb51b-51e3-4db9-8f07-2600067b7075"
      },
      "outputs": [
        {
          "data": {
            "text/plain": [
              "2024"
            ]
          },
          "execution_count": 240,
          "metadata": {},
          "output_type": "execute_result"
        }
      ],
      "source": [
        "a = 0xffff\n",
        "a & 2024"
      ]
    },
    {
      "cell_type": "markdown",
      "metadata": {
        "id": "DF9EVSgIfoFD"
      },
      "source": [
        "## Day 10"
      ]
    },
    {
      "cell_type": "code",
      "execution_count": 241,
      "metadata": {
        "colab": {
          "base_uri": "https://localhost:8080/"
        },
        "id": "u9xA7vK0P_Sd",
        "outputId": "7ea6ba35-7fdd-4f84-f513-610884d72203"
      },
      "outputs": [
        {
          "data": {
            "text/plain": [
              "(43, 43)"
            ]
          },
          "execution_count": 241,
          "metadata": {},
          "output_type": "execute_result"
        }
      ],
      "source": [
        "with open('day 10/input.txt') as f:\n",
        "    lines = f.readlines()\n",
        "\n",
        "m, n = len(lines), len(lines[0]) - 1\n",
        "m, n"
      ]
    },
    {
      "cell_type": "code",
      "execution_count": 242,
      "metadata": {
        "colab": {
          "base_uri": "https://localhost:8080/"
        },
        "id": "cZ7m0dc1wKaw",
        "outputId": "c84fd0e2-14b6-472c-d91b-3e69bc40e344"
      },
      "outputs": [
        {
          "data": {
            "text/plain": [
              "(43, 43)"
            ]
          },
          "execution_count": 242,
          "metadata": {},
          "output_type": "execute_result"
        }
      ],
      "source": [
        "hmap = [[int(h) for h in line[:-1]] for line in lines]\n",
        "m, n = len(hmap), len(hmap[0])\n",
        "m, n"
      ]
    },
    {
      "cell_type": "code",
      "execution_count": 243,
      "metadata": {
        "id": "wBDJZECygBMm"
      },
      "outputs": [],
      "source": [
        "def bfs_matrix(start):\n",
        "    '''\n",
        "    Do a BFS in a matrix.\n",
        "\n",
        "    Time complexity: :math:`O(mn)`\n",
        "\n",
        "    Space complexity: :math:`O(mn)`\n",
        "    where m is the number of rows and n is the number of columns in the matrix\n",
        "\n",
        "    :param start: tuple\n",
        "    :return: int\n",
        "    '''\n",
        "    from collections import deque, defaultdict\n",
        "\n",
        "    dirs = [(1, 0), (-1, 0), (0, 1), (0, -1)]\n",
        "    seen = set([start])\n",
        "    q = deque([(start[0], start[1])])\n",
        "    score = 0\n",
        "    while q:\n",
        "        r, c = q.popleft()\n",
        "        if hmap[r][c] == 9:\n",
        "            score += 1\n",
        "        for dr, dc in dirs:\n",
        "            if r + dr >= m or r + dr < 0 or c + dc >= n or c + dc < 0:\n",
        "                continue\n",
        "            if (r + dr, c + dc) in seen or (hmap[r + dr][c + dc] - hmap[r][c]) != 1:\n",
        "                continue\n",
        "            q.append((r + dr, c + dc))\n",
        "            seen.add((r + dr, c + dc))\n",
        "    \n",
        "    return score\n"
      ]
    },
    {
      "cell_type": "code",
      "execution_count": 244,
      "metadata": {
        "colab": {
          "base_uri": "https://localhost:8080/"
        },
        "id": "lyPoc85KzZi-",
        "outputId": "c8f1e97c-d201-46fa-b77b-93a59dca64bc"
      },
      "outputs": [
        {
          "data": {
            "text/plain": [
              "501"
            ]
          },
          "execution_count": 244,
          "metadata": {},
          "output_type": "execute_result"
        }
      ],
      "source": [
        "total_score = 0\n",
        "for i, line in enumerate(hmap):\n",
        "    for j, h in enumerate(line):\n",
        "        if h == 0:\n",
        "            total_score += bfs_matrix((i, j))\n",
        "\n",
        "total_score"
      ]
    },
    {
      "cell_type": "code",
      "execution_count": 245,
      "metadata": {
        "id": "I6bHFOWh5dYx"
      },
      "outputs": [],
      "source": [
        "def dfs_matrix(r, c):\n",
        "    if hmap[r][c] == 9:\n",
        "        return 1\n",
        "\n",
        "    dirs = [(1, 0), (-1, 0), (0, 1), (0, -1)]\n",
        "    rating = 0\n",
        "    for dr, dc in dirs:\n",
        "        if r + dr >= m or r + dr < 0 or c + dc >= n or c + dc < 0:\n",
        "            continue\n",
        "        if hmap[r + dr][c + dc] - hmap[r][c] != 1:\n",
        "            continue\n",
        "        rating += dfs_matrix(r + dr, c + dc)\n",
        "\n",
        "    return rating\n"
      ]
    },
    {
      "cell_type": "code",
      "execution_count": 246,
      "metadata": {
        "colab": {
          "base_uri": "https://localhost:8080/"
        },
        "id": "kHzqCffg6WNj",
        "outputId": "ba3fe545-2fc1-4c76-cad7-71bfb341ebd7"
      },
      "outputs": [
        {
          "data": {
            "text/plain": [
              "1017"
            ]
          },
          "execution_count": 246,
          "metadata": {},
          "output_type": "execute_result"
        }
      ],
      "source": [
        "total_rating = 0\n",
        "for i, line in enumerate(hmap):\n",
        "    for j, h in enumerate(line):\n",
        "        if h == 0:\n",
        "            total_rating += dfs_matrix(i, j)\n",
        "\n",
        "total_rating"
      ]
    },
    {
      "cell_type": "markdown",
      "metadata": {
        "id": "ukgF0cfpU0Aj"
      },
      "source": [
        "## Day 11"
      ]
    },
    {
      "cell_type": "code",
      "execution_count": 247,
      "metadata": {
        "colab": {
          "base_uri": "https://localhost:8080/"
        },
        "id": "J7of8TwKBtWo",
        "outputId": "6e0f333c-b9c7-4f23-881d-8bd6e345ef6c"
      },
      "outputs": [
        {
          "data": {
            "text/plain": [
              "['8435', '234', '928434', '14', '0', '7', '92446', '8992692']"
            ]
          },
          "execution_count": 247,
          "metadata": {},
          "output_type": "execute_result"
        }
      ],
      "source": [
        "init_arrangement = ['8435', '234', '928434', '14', '0', '7', '92446', '8992692']\n",
        "init_arrangement"
      ]
    },
    {
      "cell_type": "code",
      "execution_count": 248,
      "metadata": {
        "colab": {
          "base_uri": "https://localhost:8080/"
        },
        "id": "HqLC44DRVQK-",
        "outputId": "7ba9fa92-d118-4dce-fd33-142787fe2b8f"
      },
      "outputs": [
        {
          "data": {
            "text/plain": [
              "182081"
            ]
          },
          "execution_count": 248,
          "metadata": {},
          "output_type": "execute_result"
        }
      ],
      "source": [
        "init_arrangement = ['8435', '234', '928434', '14', '0', '7', '92446', '8992692']\n",
        "init_arrangement = {i:v for i, v in enumerate(init_arrangement)}\n",
        "for _ in range(25):\n",
        "    arrangement = init_arrangement.copy()\n",
        "    i = 0\n",
        "    for stone in arrangement.values():\n",
        "        if not len(stone) % 2:\n",
        "            init_arrangement[i] = str(int(stone[:len(stone) // 2]))\n",
        "            init_arrangement[i + 1] = str(int(stone[len(stone) // 2:]))\n",
        "            i += 2\n",
        "        else:\n",
        "            init_arrangement[i] = str(2024 * int(stone)) if int(stone) else '1'\n",
        "            i += 1\n",
        "\n",
        "len(init_arrangement)"
      ]
    },
    {
      "cell_type": "code",
      "execution_count": 249,
      "metadata": {
        "id": "u4uX0Rw-wcX6"
      },
      "outputs": [],
      "source": [
        "from functools import cache\n",
        "\n",
        "@cache\n",
        "def dfs(stone, level):\n",
        "    if not level:\n",
        "        return 1\n",
        "    if not len(stone) % 2:\n",
        "        return dfs(str(int(stone[:len(stone) // 2])), level - 1) + dfs(str(int(stone[len(stone) // 2:])), level - 1)\n",
        "    return dfs(str(2024 * int(stone)), level - 1) if int(stone) else dfs('1', level - 1)\n"
      ]
    },
    {
      "cell_type": "code",
      "execution_count": 250,
      "metadata": {
        "colab": {
          "base_uri": "https://localhost:8080/"
        },
        "id": "ysjidumox8OC",
        "outputId": "03bcbbd3-07ae-4b84-f58c-32619f5d523f"
      },
      "outputs": [
        {
          "data": {
            "text/plain": [
              "216318908621637"
            ]
          },
          "execution_count": 250,
          "metadata": {},
          "output_type": "execute_result"
        }
      ],
      "source": [
        "init_arrangement = ['8435', '234', '928434', '14', '0', '7', '92446', '8992692']\n",
        "\n",
        "sum(dfs(stone, 75) for stone in init_arrangement)"
      ]
    },
    {
      "cell_type": "markdown",
      "metadata": {
        "id": "75V2LBBh40QF"
      },
      "source": [
        "## Day 12"
      ]
    },
    {
      "cell_type": "code",
      "execution_count": 251,
      "metadata": {
        "colab": {
          "base_uri": "https://localhost:8080/"
        },
        "id": "zGYeyeeE45o7",
        "outputId": "158dbb6d-74b5-4ad0-a7ce-ae0c268acb03"
      },
      "outputs": [
        {
          "data": {
            "text/plain": [
              "(140, 140)"
            ]
          },
          "execution_count": 251,
          "metadata": {},
          "output_type": "execute_result"
        }
      ],
      "source": [
        "with open('day 12/input.txt') as f:\n",
        "    lines = f.readlines()\n",
        "\n",
        "m, n = len(lines), len(lines[0]) - 1\n",
        "m, n"
      ]
    },
    {
      "cell_type": "code",
      "execution_count": 252,
      "metadata": {
        "colab": {
          "base_uri": "https://localhost:8080/"
        },
        "id": "cmft3eU08i6K",
        "outputId": "2d211265-fa4f-41e5-f2c4-3e72fe9424a8"
      },
      "outputs": [
        {
          "data": {
            "text/plain": [
              "1522850"
            ]
          },
          "execution_count": 252,
          "metadata": {},
          "output_type": "execute_result"
        }
      ],
      "source": [
        "def calculate_cost():\n",
        "    dirs = [(1, 0), (-1, 0), (0, 1), (0, -1)]\n",
        "    area, perimeter = 0, 0\n",
        "    seen = set()\n",
        "\n",
        "    def dfs(i, j):\n",
        "        nonlocal area, perimeter\n",
        "        if (i, j) in seen:\n",
        "            return\n",
        "        seen.add((i, j))\n",
        "        area += 1\n",
        "        perimeter += 4\n",
        "        for di, dj in dirs:\n",
        "            if 0 <= i + di < m and 0 <= j + dj < n and lines[i + di][j + dj] == lines[i][j]:\n",
        "                perimeter -= 1\n",
        "                dfs(i + di, j + dj)\n",
        "\n",
        "    total_cost = 0\n",
        "    for i, line in enumerate(lines):\n",
        "        for j, plot in enumerate(line[:-1]):\n",
        "            if (i, j) in seen:\n",
        "                continue\n",
        "            area, perimeter = 0, 0\n",
        "            dfs(i, j)\n",
        "            total_cost += area * perimeter\n",
        "\n",
        "    return total_cost\n",
        "\n",
        "\n",
        "total_cost = calculate_cost()\n",
        "total_cost"
      ]
    },
    {
      "cell_type": "code",
      "execution_count": 253,
      "metadata": {
        "colab": {
          "base_uri": "https://localhost:8080/"
        },
        "id": "ZLQw12jJKtho",
        "outputId": "01459114-2ab1-4484-d32f-6bca8a832f46"
      },
      "outputs": [
        {
          "name": "stdout",
          "output_type": "stream",
          "text": [
            "Union-Find\n",
            "N of connected components: 2, N of cycles: 1\n",
            "2\n"
          ]
        }
      ],
      "source": [
        "from collections import defaultdict\n",
        "\n",
        "print('Union-Find')\n",
        "\n",
        "\n",
        "class UnionFind:\n",
        "    '''\n",
        "    Union-Find data structure\n",
        "\n",
        "    Variant with size of component attribute (for optimization)\n",
        "    and number of components attribute\n",
        "    '''\n",
        "    def __init__(self, n: int, vertices = None):\n",
        "        '''\n",
        "        Initialize the Union-Find data structure with the given number of vertices.\n",
        "\n",
        "        Time complexity: :math:`O(n)`, where n is the number of vertices.\n",
        "\n",
        "        Space complexity: :math:`O(n)`, where n is the number of vertices.\n",
        "        '''\n",
        "        if vertices:\n",
        "            self.parent = {v: v for v in vertices}\n",
        "            self.size = {v: 1 for v in vertices}\n",
        "            self.components = len(vertices)\n",
        "        else:\n",
        "            self.parent = list(range(n + 1))\n",
        "            self.size = [1] * (n + 1)\n",
        "            self.components = n\n",
        "\n",
        "\n",
        "    def find(self, x: int) -> int:\n",
        "        '''\n",
        "        Find the parent of the given node.\n",
        "\n",
        "        Time complexity: :math:`O(a(n))`\n",
        "\n",
        "        Space complexity: :math:`O(1)`\n",
        "        '''\n",
        "        if self.parent[x] == x:\n",
        "            return x\n",
        "        self.parent[x] = self.find(self.parent[x])\n",
        "        return self.parent[x]\n",
        "\n",
        "\n",
        "    def union(self, x: int, y: int) -> int:\n",
        "        '''\n",
        "        Union the components that the given nodes belong to.\n",
        "\n",
        "        Time complexity: :math:`O(a(n))`, where a(n) is the inverse Ackermann function (very slow growing function).\n",
        "\n",
        "        Space complexity: :math:`O(1)`\n",
        "        '''\n",
        "        x = self.find(x)\n",
        "        y = self.find(y)\n",
        "        if x == y:\n",
        "            return 0\n",
        "\n",
        "        if self.size[x] > self.size[y]:\n",
        "            self.size[x] += self.size[y]\n",
        "            self.parent[y] = x\n",
        "        else:\n",
        "            self.size[y] += self.size[x]\n",
        "            self.parent[x] = y\n",
        "\n",
        "        self.components -= 1\n",
        "        return 1\n",
        "\n",
        "\n",
        "    def are_connected(self, x: int, y: int) -> bool:\n",
        "        '''\n",
        "        Check if the given nodes are connected\n",
        "\n",
        "        Time complexity: :math:`O(a(n))`, where a(n) is the inverse Ackermann function (very slow growing function).\n",
        "\n",
        "        Space complexity: :math:`O(1)`\n",
        "        '''\n",
        "        return self.find(x) == self.find(y)\n",
        "\n",
        "\n",
        "# Example usage:\n",
        "vertices = [1, 2, 3, 4, 5, 6, 7]\n",
        "uf = UnionFind(7, vertices)\n",
        "graph = [(1, 2), (2, 3), (1, 3), (1, 4), (2, 5), (6, 7)]\n",
        "connected_components = len(vertices)\n",
        "cycles = 0\n",
        "for x, y in graph:\n",
        "    if uf.are_connected(x, y):\n",
        "        cycles += 1\n",
        "    else:\n",
        "        connected_components -= 1\n",
        "        uf.union(x, y)\n",
        "\n",
        "print(f'N of connected components: {connected_components}, N of cycles: {cycles}')\n",
        "print(uf.components)"
      ]
    },
    {
      "cell_type": "code",
      "execution_count": 254,
      "metadata": {
        "colab": {
          "base_uri": "https://localhost:8080/"
        },
        "id": "R7lgr4LZ_qBt",
        "outputId": "05b46d88-186f-4048-aa95-c51efb74b0df"
      },
      "outputs": [
        {
          "data": {
            "text/plain": [
              "953738"
            ]
          },
          "execution_count": 254,
          "metadata": {},
          "output_type": "execute_result"
        }
      ],
      "source": [
        "def calculate_cost_w_discount():\n",
        "    dirs = [(1, 0), (0, -1), (-1, 0), (0, 1)]\n",
        "    seen = set()\n",
        "\n",
        "    def dfs(i, j):\n",
        "        nonlocal area\n",
        "        if (i, j) in seen:\n",
        "            return\n",
        "        seen.add((i, j))\n",
        "        area += 1\n",
        "        for di, dj in dirs:\n",
        "            if 0 <= i + di < m and 0 <= j + dj < n and lines[i + di][j + dj] == lines[i][j]:\n",
        "                dfs(i + di, j + dj)\n",
        "            else:\n",
        "                fence.add((i + di, j + dj, di, dj))\n",
        "\n",
        "    def count_sides(fence):\n",
        "        uf = UnionFind(len(fence), fence)\n",
        "        for i, j, di, dj in fence:\n",
        "            di_, dj_ = dj, di\n",
        "            if (i + di_, j + dj_, di, dj) in fence:\n",
        "                uf.union((i, j, di, dj), (i + di_, j + dj_, di, dj))\n",
        "            if (i - di_, j - dj_, di, dj) in fence:\n",
        "                uf.union((i, j, di, dj), (i - di_, j - dj_, di, dj))\n",
        "\n",
        "        return uf.components\n",
        "\n",
        "\n",
        "    total_cost = 0\n",
        "    for i, line in enumerate(lines):\n",
        "        for j, plot in enumerate(line[:-1]):\n",
        "            if (i, j) in seen:\n",
        "                continue\n",
        "            area, fence = 0, set()\n",
        "            dfs(i, j)\n",
        "            total_cost += area * count_sides(fence)\n",
        "\n",
        "    return total_cost\n",
        "\n",
        "\n",
        "total_cost = calculate_cost_w_discount()\n",
        "total_cost"
      ]
    },
    {
      "cell_type": "markdown",
      "metadata": {},
      "source": [
        "## Day 13"
      ]
    },
    {
      "cell_type": "code",
      "execution_count": 1,
      "metadata": {},
      "outputs": [
        {
          "data": {
            "text/plain": [
              "(1279, 20)"
            ]
          },
          "execution_count": 1,
          "metadata": {},
          "output_type": "execute_result"
        }
      ],
      "source": [
        "with open('day 13/input.txt') as f:\n",
        "    lines = f.readlines()\n",
        "\n",
        "m, n = len(lines), len(lines[0]) - 1\n",
        "m, n"
      ]
    },
    {
      "cell_type": "code",
      "execution_count": 2,
      "metadata": {},
      "outputs": [
        {
          "data": {
            "text/plain": [
              "26810"
            ]
          },
          "execution_count": 2,
          "metadata": {},
          "output_type": "execute_result"
        }
      ],
      "source": [
        "def min_tokens_to_win_all(lines):\n",
        "    from functools import cache\n",
        "    from math import inf\n",
        "    \n",
        "    def brute_force():\n",
        "        for a in range(101):\n",
        "            for b in range(101):\n",
        "                if a * a_x + b * b_x == X and a * a_y + b * b_y == Y:\n",
        "                    return 3 * a + b\n",
        "\n",
        "        return inf\n",
        "    \n",
        "    total_min_tokens = 0\n",
        "    for i in range(0, m, 4):\n",
        "        a_x, a_y = int(lines[i][12:14]), int(lines[i][18:20])\n",
        "        b_x, b_y = int(lines[i + 1][12:14]), int(lines[i + 1][18:20])\n",
        "        X, Y = int(lines[i + 2].split(',')[0][9:]), int(lines[i + 2].split(',')[1][3:])\n",
        "        min_tokens = brute_force()\n",
        "        total_min_tokens += min_tokens if min_tokens != inf else 0\n",
        "\n",
        "    return total_min_tokens\n",
        "    \n",
        "min_tokens_to_win_all(lines)"
      ]
    },
    {
      "cell_type": "code",
      "execution_count": 19,
      "metadata": {},
      "outputs": [
        {
          "data": {
            "text/plain": [
              "108713182988244"
            ]
          },
          "execution_count": 19,
          "metadata": {},
          "output_type": "execute_result"
        }
      ],
      "source": [
        "def min_tokens_to_win_all_adjust(lines):\n",
        "    from functools import cache\n",
        "    from math import inf, gcd\n",
        "\n",
        "    adjustment = 10_000_000_000_000\n",
        "    \n",
        "    def solver(a_x, a_y, b_x, b_y, X, Y):\n",
        "        nonlocal cnt\n",
        "        if (X + adjustment) % gcd(a_x, b_x) or (Y + adjustment) % gcd(a_y, b_y):\n",
        "            return inf\n",
        "        \n",
        "        u, v = a_x // gcd(a_x, b_x), b_x // gcd(a_x, b_x)\n",
        "        a_0, b_0 = None, None\n",
        "        for a in range(2 * v + 1):\n",
        "            if not (X + adjustment - a * a_x) % b_x:\n",
        "                a_0, b_0 = a, (X + adjustment - a * a_x) // b_x\n",
        "                break\n",
        "        \n",
        "\n",
        "        if (Y + adjustment - a_0 * a_y - b_0 * b_y) % (v * a_y - u * b_y):\n",
        "            return inf\n",
        "        k = (Y + adjustment - a_0 * a_y - b_0 * b_y) // (v * a_y - u * b_y)\n",
        "        a, b = a_0 + k * v, b_0 - k * u\n",
        "        \n",
        "        # if Y + adjustment != a_y * a + b_y * b:\n",
        "        #     # print('strange', X + adjustment, Y + adjustment, a_x * a + b_x * b, a_y * a + b_y * b)\n",
        "        #     cnt += 1\n",
        "        # print(cnt)\n",
        "        \n",
        "        return 3 * a + b\n",
        "    \n",
        "    \n",
        "    total_min_tokens = 0\n",
        "    cnt = 0\n",
        "    for i in range(0, m, 4):\n",
        "        a_x, a_y = int(lines[i][12:14]), int(lines[i][18:20])\n",
        "        b_x, b_y = int(lines[i + 1][12:14]), int(lines[i + 1][18:20])\n",
        "        X, Y = int(lines[i + 2].split(',')[0][9:]), int(lines[i + 2].split(',')[1][3:])\n",
        "\n",
        "        min_tokens = solver(a_x, a_y, b_x, b_y, X, Y)\n",
        "        total_min_tokens += min_tokens if min_tokens != inf else 0\n",
        "\n",
        "\n",
        "    return total_min_tokens\n",
        "    \n",
        "min_tokens_to_win_all_adjust(lines)"
      ]
    },
    {
      "cell_type": "code",
      "execution_count": 9,
      "metadata": {},
      "outputs": [
        {
          "data": {
            "text/plain": [
              "5"
            ]
          },
          "execution_count": 9,
          "metadata": {},
          "output_type": "execute_result"
        }
      ],
      "source": []
    },
    {
      "cell_type": "code",
      "execution_count": 9,
      "metadata": {},
      "outputs": [
        {
          "data": {
            "text/plain": [
              "(2716, 2716)"
            ]
          },
          "execution_count": 9,
          "metadata": {},
          "output_type": "execute_result"
        }
      ],
      "source": []
    }
  ],
  "metadata": {
    "colab": {
      "authorship_tag": "ABX9TyMNUPR+5vqw+bxS4ozoBIVF",
      "include_colab_link": true,
      "provenance": []
    },
    "kernelspec": {
      "display_name": "Python 3",
      "name": "python3"
    },
    "language_info": {
      "codemirror_mode": {
        "name": "ipython",
        "version": 3
      },
      "file_extension": ".py",
      "mimetype": "text/x-python",
      "name": "python",
      "nbconvert_exporter": "python",
      "pygments_lexer": "ipython3",
      "version": "3.12.1"
    }
  },
  "nbformat": 4,
  "nbformat_minor": 0
}
