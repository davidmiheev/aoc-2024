{
  "cells": [
    {
      "cell_type": "markdown",
      "metadata": {
        "id": "view-in-github",
        "colab_type": "text"
      },
      "source": [
        "<a href=\"https://colab.research.google.com/github/davidmiheev/aoc-2024/blob/main/advent_of_code_2024.ipynb\" target=\"_parent\"><img src=\"https://colab.research.google.com/assets/colab-badge.svg\" alt=\"Open In Colab\"/></a>"
      ]
    },
    {
      "cell_type": "code",
      "execution_count": null,
      "metadata": {
        "id": "b8EI-CFuUT-V"
      },
      "outputs": [],
      "source": []
    },
    {
      "cell_type": "markdown",
      "metadata": {
        "id": "U_CkJOrmXp4y"
      },
      "source": [
        "# Advent of Code 2024"
      ]
    },
    {
      "cell_type": "markdown",
      "metadata": {
        "id": "dnpcs2u3XsWK"
      },
      "source": [
        "## Day 1"
      ]
    },
    {
      "cell_type": "code",
      "execution_count": null,
      "metadata": {
        "id": "loePtpWvVL3K"
      },
      "outputs": [],
      "source": [
        "with open('input.txt') as f:\n",
        "    lines = f.readlines()"
      ]
    },
    {
      "cell_type": "code",
      "execution_count": null,
      "metadata": {
        "id": "mH6hZEc8VW9i"
      },
      "outputs": [],
      "source": [
        "left, right = [], []\n",
        "for line in lines:\n",
        "    l, r = line[:-1].split('   ')\n",
        "    left.append(int(l))\n",
        "    right.append(int(r))\n"
      ]
    },
    {
      "cell_type": "code",
      "execution_count": null,
      "metadata": {
        "colab": {
          "base_uri": "https://localhost:8080/"
        },
        "id": "Mov1sBq9YU6F",
        "outputId": "31bdc4ac-80b4-4d0a-c9f0-8f4b948f8a98"
      },
      "outputs": [
        {
          "data": {
            "text/plain": [
              "2000468"
            ]
          },
          "execution_count": 65,
          "metadata": {},
          "output_type": "execute_result"
        }
      ],
      "source": [
        "sum(abs(id2 - id1) for id1, id2 in zip(sorted(left), sorted(right)))"
      ]
    },
    {
      "cell_type": "code",
      "execution_count": null,
      "metadata": {
        "colab": {
          "base_uri": "https://localhost:8080/"
        },
        "id": "tD885edNhI-e",
        "outputId": "53e8ec68-b5f1-4a74-fb70-22b030dfdaaf"
      },
      "outputs": [
        {
          "data": {
            "text/plain": [
              "18567089"
            ]
          },
          "execution_count": 66,
          "metadata": {},
          "output_type": "execute_result"
        }
      ],
      "source": [
        "from collections import Counter\n",
        "\n",
        "cnt_r = Counter(right)\n",
        "sum(id1 * cnt_r[id1] for id1 in left)"
      ]
    },
    {
      "cell_type": "markdown",
      "metadata": {
        "id": "8iqE5hjPi70p"
      },
      "source": [
        "## Day 2\n"
      ]
    },
    {
      "cell_type": "code",
      "execution_count": null,
      "metadata": {
        "id": "a8zobvjBjWT3"
      },
      "outputs": [],
      "source": [
        "with open('input-2.txt') as f:\n",
        "    lines = f.readlines()"
      ]
    },
    {
      "cell_type": "code",
      "execution_count": null,
      "metadata": {
        "colab": {
          "base_uri": "https://localhost:8080/"
        },
        "id": "DL9u-YrbjbwC",
        "outputId": "d54a0a0a-83ae-430d-ec88-0f0da88bf753"
      },
      "outputs": [
        {
          "data": {
            "text/plain": [
              "[['19', '21', '24', '27', '24'],\n",
              " ['85', '87', '89', '92', '93', '96', '98', '98'],\n",
              " ['2', '5', '6', '7', '8', '12'],\n",
              " ['63', '66', '69', '72', '75', '82'],\n",
              " ['18', '21', '23', '26', '28', '26', '27', '28'],\n",
              " ['16', '19', '21', '19', '20', '22', '23', '22'],\n",
              " ['37', '39', '37', '38', '41', '42', '44', '44'],\n",
              " ['18', '20', '17', '20', '24'],\n",
              " ['50', '51', '54', '53', '58'],\n",
              " ['73', '76', '77', '80', '83', '83', '84', '85']]"
            ]
          },
          "execution_count": 74,
          "metadata": {},
          "output_type": "execute_result"
        }
      ],
      "source": [
        "reports = []\n",
        "for line in lines:\n",
        "    reports.append(line[:-1].split(' '))\n",
        "\n",
        "reports[:10]"
      ]
    },
    {
      "cell_type": "code",
      "execution_count": null,
      "metadata": {
        "colab": {
          "base_uri": "https://localhost:8080/"
        },
        "id": "LlP1crakjy64",
        "outputId": "9c6ee6bd-8ae1-4a9d-8a7f-684c8b8eeb02"
      },
      "outputs": [
        {
          "data": {
            "text/plain": [
              "407"
            ]
          },
          "execution_count": 75,
          "metadata": {},
          "output_type": "execute_result"
        }
      ],
      "source": [
        "safe_cnt = 0\n",
        "for report in reports:\n",
        "    if all(1 <= int(n) - int(p) <= 3 for p, n in zip(report, report[1:])):\n",
        "        safe_cnt += 1\n",
        "    if all(-3 <= int(n) - int(p) <= -1 for p, n in zip(report, report[1:])):\n",
        "        safe_cnt += 1\n",
        "\n",
        "safe_cnt"
      ]
    },
    {
      "cell_type": "code",
      "execution_count": null,
      "metadata": {
        "colab": {
          "base_uri": "https://localhost:8080/"
        },
        "id": "erXYTq6rmuH-",
        "outputId": "388af8ae-53a2-47a3-e8cd-3dc3993b3bbe"
      },
      "outputs": [
        {
          "data": {
            "text/plain": [
              "52"
            ]
          },
          "execution_count": 84,
          "metadata": {},
          "output_type": "execute_result"
        }
      ],
      "source": [
        "safe_cnt = 0\n",
        "for report in reports:\n",
        "    x = [1 <= int(n) - int(p) <= 3 for p, n in zip(report, report[1:])]\n",
        "    if sum(x) == len(report) - 1:\n",
        "        continue\n",
        "    i = x.index(False)\n",
        "    if i == len(report) - 2:\n",
        "        safe_cnt += 1\n",
        "        continue\n",
        "    report_1, report_2  = report[:i] + report[i + 1:], report[:i + 1] + report[i + 2:]\n",
        "    if all(1 <= int(n) - int(p) <= 3 for p, n in zip(report_1, report_1[1:])):\n",
        "        safe_cnt += 1\n",
        "        continue\n",
        "    if all(1 <= int(n) - int(p) <= 3 for p, n in zip(report_2, report_2[1:])):\n",
        "        safe_cnt += 1\n",
        "        continue\n",
        "    x = [-3 <= int(n) - int(p) <= -1 for p, n in zip(report, report[1:])]\n",
        "    if sum(x) == len(report) - 1:\n",
        "        continue\n",
        "    i = x.index(False)\n",
        "    if i == len(report) - 2:\n",
        "        safe_cnt += 1\n",
        "        continue\n",
        "    report_1, report_2  = report[:i] + report[i + 1:], report[:i + 1] + report[i + 2:]\n",
        "    if all(-3 <= int(n) - int(p) <= -1 for p, n in zip(report_1, report_1[1:])):\n",
        "        safe_cnt += 1\n",
        "        continue\n",
        "    if all(-3 <= int(n) - int(p) <= -1 for p, n in zip(report_2, report_2[1:])):\n",
        "        safe_cnt += 1\n",
        "        continue\n",
        "\n",
        "safe_cnt"
      ]
    },
    {
      "cell_type": "markdown",
      "metadata": {
        "id": "qlQZ_uoB25L5"
      },
      "source": [
        "## Day 3"
      ]
    },
    {
      "cell_type": "code",
      "execution_count": null,
      "metadata": {
        "colab": {
          "base_uri": "https://localhost:8080/"
        },
        "id": "J3Fogi4XIXg5",
        "outputId": "bf4ecb00-863c-4a9c-81bf-73bf6b57a810"
      },
      "outputs": [
        {
          "data": {
            "text/plain": [
              "6"
            ]
          },
          "execution_count": 2,
          "metadata": {},
          "output_type": "execute_result"
        }
      ],
      "source": [
        "with open('input-3.txt') as f:\n",
        "    lines = f.readlines()\n",
        "\n",
        "len(lines)"
      ]
    },
    {
      "cell_type": "code",
      "execution_count": null,
      "metadata": {
        "colab": {
          "base_uri": "https://localhost:8080/"
        },
        "id": "Y4cxE_ivIUxX",
        "outputId": "cb3ba1f1-7971-48fe-d3df-9666e34491f2"
      },
      "outputs": [
        {
          "data": {
            "text/plain": [
              "168539636"
            ]
          },
          "execution_count": 20,
          "metadata": {},
          "output_type": "execute_result"
        }
      ],
      "source": [
        "import re\n",
        "res = 0\n",
        "for i, line in enumerate(lines):\n",
        "    # print(line)\n",
        "    for m in re.finditer('mul\\([0-9]{1,3},[0-9]{1,3}\\)', line):\n",
        "        a, b = m.group()[4:-1].split(',')\n",
        "        a, b = int(a), int(b)\n",
        "        res += a * b\n",
        "\n",
        "res"
      ]
    },
    {
      "cell_type": "code",
      "execution_count": null,
      "metadata": {
        "colab": {
          "base_uri": "https://localhost:8080/"
        },
        "id": "HB5tkZNrMs_U",
        "outputId": "93c96aa5-2bff-4b0e-fddb-1f00abe443cd"
      },
      "outputs": [
        {
          "data": {
            "text/plain": [
              "97529391"
            ]
          },
          "execution_count": 24,
          "metadata": {},
          "output_type": "execute_result"
        }
      ],
      "source": [
        "res = 0\n",
        "do = True\n",
        "for i, line in enumerate(lines):\n",
        "    # print(line)\n",
        "    for m in re.finditer(\"do\\(\\)|don't\\(\\)|mul\\([0-9]{1,3},[0-9]{1,3}\\)\", line):\n",
        "        if m.group() == 'do()':\n",
        "            do = True\n",
        "            continue\n",
        "        if m.group() == 'don\\'t()':\n",
        "            do = False\n",
        "            continue\n",
        "        if not do:\n",
        "            continue\n",
        "        a, b = m.group()[4:-1].split(',')\n",
        "        a, b = int(a), int(b)\n",
        "        res += a * b\n",
        "\n",
        "res"
      ]
    },
    {
      "cell_type": "markdown",
      "metadata": {
        "id": "Dw6AjM3GHZik"
      },
      "source": [
        "## Day 4"
      ]
    },
    {
      "cell_type": "code",
      "execution_count": null,
      "metadata": {
        "colab": {
          "base_uri": "https://localhost:8080/"
        },
        "id": "b_FjJ91QHeiQ",
        "outputId": "8b54a43b-8d44-4150-bbc1-70d17e08ef54"
      },
      "outputs": [
        {
          "data": {
            "text/plain": [
              "(140, 141)"
            ]
          },
          "execution_count": 1,
          "metadata": {},
          "output_type": "execute_result"
        }
      ],
      "source": [
        "with open('input-4.txt') as f:\n",
        "    lines = f.readlines()\n",
        "\n",
        "len(lines), len(lines[0])"
      ]
    },
    {
      "cell_type": "code",
      "execution_count": null,
      "metadata": {
        "colab": {
          "base_uri": "https://localhost:8080/"
        },
        "id": "G1DIA6LsH4i2",
        "outputId": "4a91fb47-9b01-48c7-c9a7-7c18772a7a9e"
      },
      "outputs": [
        {
          "data": {
            "text/plain": [
              "441"
            ]
          },
          "execution_count": 2,
          "metadata": {},
          "output_type": "execute_result"
        }
      ],
      "source": [
        "import re\n",
        "\n",
        "res = 0\n",
        "for line in lines:\n",
        "    for m in re.finditer('XMAS', line):\n",
        "        res += 1\n",
        "    for m in re.finditer('SAMX', line):\n",
        "        res += 1\n",
        "\n",
        "res"
      ]
    },
    {
      "cell_type": "code",
      "execution_count": null,
      "metadata": {
        "colab": {
          "base_uri": "https://localhost:8080/"
        },
        "id": "dK1TfYcPJZls",
        "outputId": "a0604ce8-4024-4a68-9d9f-16c91a676228"
      },
      "outputs": [
        {
          "data": {
            "text/plain": [
              "2255"
            ]
          },
          "execution_count": 3,
          "metadata": {},
          "output_type": "execute_result"
        }
      ],
      "source": [
        "diagonals = []\n",
        "\n",
        "for i in range(-len(lines) + 1, len(lines)):\n",
        "    diagonal = []\n",
        "    for j in range(len(lines) - abs(i)):\n",
        "        if i < 0:\n",
        "            diagonal.append(lines[j + abs(i)][j])\n",
        "        else:\n",
        "            diagonal.append(lines[j][j + i])\n",
        "\n",
        "    # diagonals.append(''.join(diagonal))\n",
        "    for m in re.finditer('XMAS', ''.join(diagonal)):\n",
        "        res += 1\n",
        "    for m in re.finditer('SAMX', ''.join(diagonal)):\n",
        "        res += 1\n",
        "\n",
        "for i in range(len(lines)):\n",
        "    diagonal = []\n",
        "    for j in range(i + 1):\n",
        "        diagonal.append(lines[i - j][j])\n",
        "\n",
        "    for m in re.finditer('XMAS', ''.join(diagonal)):\n",
        "        res += 1\n",
        "    for m in re.finditer('SAMX', ''.join(diagonal)):\n",
        "        res += 1\n",
        "\n",
        "\n",
        "for i in range(1, len(lines)):\n",
        "    diagonal = []\n",
        "    for j in range(len(lines) - i):\n",
        "        diagonal.append(lines[-j - 1][j + i])\n",
        "\n",
        "    for m in re.finditer('XMAS', ''.join(diagonal)):\n",
        "        res += 1\n",
        "    for m in re.finditer('SAMX', ''.join(diagonal)):\n",
        "        res += 1\n",
        "\n",
        "res"
      ]
    },
    {
      "cell_type": "code",
      "execution_count": null,
      "metadata": {
        "colab": {
          "base_uri": "https://localhost:8080/"
        },
        "id": "TaP3clVRddHV",
        "outputId": "44f5cb2c-2004-4470-e61a-657b14ed09f9"
      },
      "outputs": [
        {
          "data": {
            "text/plain": [
              "2718"
            ]
          },
          "execution_count": 4,
          "metadata": {},
          "output_type": "execute_result"
        }
      ],
      "source": [
        "for i in range(len(lines)):\n",
        "    vertical = []\n",
        "    for line in lines:\n",
        "        vertical.append(line[i])\n",
        "\n",
        "    for m in re.finditer('XMAS', ''.join(vertical)):\n",
        "        res += 1\n",
        "    for m in re.finditer('SAMX', ''.join(vertical)):\n",
        "        res += 1\n",
        "\n",
        "res"
      ]
    },
    {
      "cell_type": "code",
      "execution_count": null,
      "metadata": {
        "colab": {
          "base_uri": "https://localhost:8080/"
        },
        "id": "WrPKuT8GeSFD",
        "outputId": "4405255e-eae1-4db7-e492-5f848dd657a6"
      },
      "outputs": [
        {
          "data": {
            "text/plain": [
              "2046"
            ]
          },
          "execution_count": 6,
          "metadata": {},
          "output_type": "execute_result"
        }
      ],
      "source": [
        "res = 0\n",
        "for i in range(len(lines) - 2):\n",
        "    for j in range(len(lines[0]) - 3):\n",
        "        if ''.join([lines[i][j], lines[i + 1][j + 1], lines[i + 2][j + 2]]) in ('MAS', 'SAM') \\\n",
        "            and ''.join([lines[i][j + 2], lines[i + 1][j + 1], lines[i + 2][j]]) in ('MAS', 'SAM'):\n",
        "            res += 1\n",
        "\n",
        "res"
      ]
    },
    {
      "cell_type": "markdown",
      "metadata": {
        "id": "-KBZ8A7e6G9X"
      },
      "source": [
        "## Day 5"
      ]
    },
    {
      "cell_type": "code",
      "execution_count": null,
      "metadata": {
        "colab": {
          "base_uri": "https://localhost:8080/"
        },
        "id": "6vfuzJI86Gdd",
        "outputId": "69606aa5-220c-447c-9f78-cd1d676bbbbc"
      },
      "outputs": [
        {
          "data": {
            "text/plain": [
              "1374"
            ]
          },
          "execution_count": 37,
          "metadata": {},
          "output_type": "execute_result"
        }
      ],
      "source": [
        "with open('input-5.txt') as f:\n",
        "    lines = f.readlines()\n",
        "\n",
        "len(lines)"
      ]
    },
    {
      "cell_type": "code",
      "execution_count": null,
      "metadata": {
        "colab": {
          "base_uri": "https://localhost:8080/"
        },
        "id": "Ju9fvhHA7aAs",
        "outputId": "38cd1065-1af0-4607-9e18-8c92e9d92f2b"
      },
      "outputs": [
        {
          "data": {
            "text/plain": [
              "([['95', '51'],\n",
              "  ['92', '45'],\n",
              "  ['92', '39'],\n",
              "  ['55', '51'],\n",
              "  ['55', '91'],\n",
              "  ['55', '43'],\n",
              "  ['46', '93'],\n",
              "  ['46', '69'],\n",
              "  ['46', '84'],\n",
              "  ['46', '99']],\n",
              " [['37',\n",
              "   '45',\n",
              "   '96',\n",
              "   '69',\n",
              "   '95',\n",
              "   '88',\n",
              "   '81',\n",
              "   '24',\n",
              "   '52',\n",
              "   '86',\n",
              "   '18',\n",
              "   '55',\n",
              "   '68',\n",
              "   '76',\n",
              "   '61',\n",
              "   '57',\n",
              "   '58',\n",
              "   '23',\n",
              "   '62',\n",
              "   '91',\n",
              "   '54'],\n",
              "  ['97', '71', '66', '28', '95', '86', '18', '76', '61', '14', '57'],\n",
              "  ['11', '58', '62', '65', '82', '76', '43'],\n",
              "  ['35',\n",
              "   '93',\n",
              "   '66',\n",
              "   '42',\n",
              "   '86',\n",
              "   '45',\n",
              "   '88',\n",
              "   '67',\n",
              "   '96',\n",
              "   '26',\n",
              "   '73',\n",
              "   '71',\n",
              "   '95',\n",
              "   '81',\n",
              "   '24'],\n",
              "  ['64',\n",
              "   '95',\n",
              "   '88',\n",
              "   '81',\n",
              "   '24',\n",
              "   '52',\n",
              "   '86',\n",
              "   '18',\n",
              "   '55',\n",
              "   '68',\n",
              "   '76',\n",
              "   '61',\n",
              "   '14',\n",
              "   '44',\n",
              "   '57',\n",
              "   '58',\n",
              "   '23',\n",
              "   '62',\n",
              "   '91',\n",
              "   '51',\n",
              "   '38',\n",
              "   '65',\n",
              "   '32'],\n",
              "  ['69',\n",
              "   '88',\n",
              "   '81',\n",
              "   '24',\n",
              "   '86',\n",
              "   '18',\n",
              "   '55',\n",
              "   '68',\n",
              "   '76',\n",
              "   '61',\n",
              "   '14',\n",
              "   '44',\n",
              "   '57',\n",
              "   '58',\n",
              "   '23',\n",
              "   '62',\n",
              "   '91',\n",
              "   '54',\n",
              "   '51',\n",
              "   '38',\n",
              "   '65'],\n",
              "  ['54',\n",
              "   '65',\n",
              "   '32',\n",
              "   '92',\n",
              "   '82',\n",
              "   '39',\n",
              "   '43',\n",
              "   '99',\n",
              "   '93',\n",
              "   '73',\n",
              "   '42',\n",
              "   '84',\n",
              "   '26',\n",
              "   '97',\n",
              "   '19'],\n",
              "  ['92', '46', '82', '39', '43', '73', '84', '67', '19', '71', '96'],\n",
              "  ['65',\n",
              "   '32',\n",
              "   '67',\n",
              "   '99',\n",
              "   '77',\n",
              "   '57',\n",
              "   '39',\n",
              "   '93',\n",
              "   '11',\n",
              "   '51',\n",
              "   '42',\n",
              "   '63',\n",
              "   '91',\n",
              "   '58',\n",
              "   '62',\n",
              "   '38',\n",
              "   '73'],\n",
              "  ['92', '26', '93', '66', '51', '39', '42']])"
            ]
          },
          "execution_count": 38,
          "metadata": {},
          "output_type": "execute_result"
        }
      ],
      "source": [
        "rules = []\n",
        "updates = []\n",
        "t = 0\n",
        "for i, line in enumerate(lines):\n",
        "    if line == '\\n':\n",
        "        t = 1\n",
        "        continue\n",
        "    if t == 0:\n",
        "        rules.append(line[:-1].split('|'))\n",
        "    if t == 1:\n",
        "        updates.append(line[:-1].split(','))\n",
        "\n",
        "rules[:10], updates[:10]"
      ]
    },
    {
      "cell_type": "code",
      "execution_count": null,
      "metadata": {
        "colab": {
          "base_uri": "https://localhost:8080/"
        },
        "id": "yRX9me6j9JEg",
        "outputId": "12e76785-0d6d-4643-f845-39df3c224909"
      },
      "outputs": [
        {
          "data": {
            "text/plain": [
              "6260"
            ]
          },
          "execution_count": 19,
          "metadata": {},
          "output_type": "execute_result"
        }
      ],
      "source": [
        "from collections import defaultdict\n",
        "\n",
        "res = 0\n",
        "for update in updates:\n",
        "    inds = defaultdict(int)\n",
        "    for i, e in enumerate(update):\n",
        "        inds[int(e)] = i\n",
        "\n",
        "\n",
        "    if all(inds.get(int(a), -1) < inds.get(int(b), 100) for a, b in rules):\n",
        "        res += int(update[len(update) // 2])\n",
        "\n",
        "res"
      ]
    },
    {
      "cell_type": "code",
      "execution_count": null,
      "metadata": {
        "colab": {
          "base_uri": "https://localhost:8080/"
        },
        "id": "fsUk6ECzCzkl",
        "outputId": "05d89d8e-6e0e-47b7-93d9-3c4f27574a8d"
      },
      "outputs": [
        {
          "data": {
            "text/plain": [
              "5346"
            ]
          },
          "execution_count": 39,
          "metadata": {},
          "output_type": "execute_result"
        }
      ],
      "source": [
        "res = 0\n",
        "for update in updates:\n",
        "    inds = defaultdict(int)\n",
        "    prev_t, t = -1, 0\n",
        "    for i, e in enumerate(update):\n",
        "        inds[int(e)] = i\n",
        "\n",
        "    while prev_t != t:\n",
        "        prev_t = t\n",
        "        for a, b in rules:\n",
        "            if inds.get(int(a), -1) > inds.get(int(b), 100):\n",
        "                t += 1\n",
        "                i, j = inds.get(int(a), -1), inds.get(int(b), 100)\n",
        "                update[i], update[j] = update[j], update[i]\n",
        "                inds[int(a)], inds[int(b)] = inds[int(b)], inds[int(a)]\n",
        "                break\n",
        "\n",
        "    if t:\n",
        "        res += int(update[len(update) // 2])\n",
        "\n",
        "res"
      ]
    },
    {
      "cell_type": "markdown",
      "metadata": {
        "id": "1FnI8tt_UL1Y"
      },
      "source": [
        "## Day 6"
      ]
    },
    {
      "cell_type": "code",
      "execution_count": null,
      "metadata": {
        "colab": {
          "base_uri": "https://localhost:8080/"
        },
        "id": "hxM3_VFkUKdr",
        "outputId": "ee7bf039-a7d3-4cbb-8864-6685e464ac8d"
      },
      "outputs": [
        {
          "data": {
            "text/plain": [
              "(130, 130)"
            ]
          },
          "execution_count": 237,
          "metadata": {},
          "output_type": "execute_result"
        }
      ],
      "source": [
        "with open('input-6.txt') as f:\n",
        "    lines = f.readlines()\n",
        "\n",
        "m, n = len(lines), len(lines[0]) - 1\n",
        "m, n"
      ]
    },
    {
      "cell_type": "code",
      "execution_count": null,
      "metadata": {
        "colab": {
          "base_uri": "https://localhost:8080/"
        },
        "id": "cnNJLXgSWY_A",
        "outputId": "f9689ccc-25db-4616-a357-3deb3812ebcd"
      },
      "outputs": [
        {
          "data": {
            "text/plain": [
              "(79, 87)"
            ]
          },
          "execution_count": 238,
          "metadata": {},
          "output_type": "execute_result"
        }
      ],
      "source": [
        "dirs = [(-1, 0), (0, 1), (1, 0), (0, -1)]\n",
        "cur_pos, cur_dir = None, 0\n",
        "\n",
        "for i, line in enumerate(lines):\n",
        "    for j, e in enumerate(line[:-1]):\n",
        "        if e == '^':\n",
        "            cur_pos = (i, j)\n",
        "            break\n",
        "\n",
        "cur_pos"
      ]
    },
    {
      "cell_type": "code",
      "execution_count": null,
      "metadata": {
        "colab": {
          "base_uri": "https://localhost:8080/"
        },
        "id": "l2hv34yWXedf",
        "outputId": "1ed73b09-6744-43d5-c053-2ad9c095891f"
      },
      "outputs": [
        {
          "name": "stdout",
          "output_type": "stream",
          "text": [
            "4602\n"
          ]
        }
      ],
      "source": [
        "seen = set()\n",
        "def simulate_route(cur_pos, cur_dir):\n",
        "    visited = set()\n",
        "\n",
        "    while True:\n",
        "\n",
        "        visited.add((cur_pos, cur_dir))\n",
        "        seen.add(cur_pos)\n",
        "        next_pos = (cur_pos[0] + dirs[cur_dir][0], cur_pos[1] + dirs[cur_dir][1])\n",
        "        if not (0 <= next_pos[0] <= m - 1 and 0 <= next_pos[1] <= n - 1):\n",
        "            break\n",
        "        if lines[next_pos[0]][next_pos[1]] == '#':\n",
        "            cur_dir = (cur_dir + 1) % 4\n",
        "        else:\n",
        "          cur_pos = next_pos\n",
        "        if (cur_pos, cur_dir) in visited:\n",
        "            return 1\n",
        "\n",
        "    return 0\n",
        "\n",
        "simulate_route(cur_pos, cur_dir)\n",
        "print(len(seen))"
      ]
    },
    {
      "cell_type": "code",
      "execution_count": null,
      "metadata": {
        "id": "-0ctR0Ubi3wi"
      },
      "outputs": [],
      "source": [
        "import sys\n",
        "from functools import cache\n",
        "\n",
        "sys.setrecursionlimit(130 * 130)\n",
        "\n",
        "\n",
        "\n",
        "dirs = [(-1, 0), (0, 1), (1, 0), (0, -1)]\n",
        "\n",
        "def search(cur_pos, cur_dir, lines):\n",
        "    # Check if the current position is out of bounds\n",
        "    if not (0 < cur_pos[0] < m - 1 and 0 < cur_pos[1] < n - 1):\n",
        "        return False  # Out of bounds, no loop found\n",
        "\n",
        "    next_pos = (cur_pos[0] + dirs[cur_dir][0], cur_pos[1] + dirs[cur_dir][1])\n",
        "\n",
        "    # If the next position is a wall, turn right (change direction)\n",
        "    if lines[next_pos[0]][next_pos[1]] == '#':\n",
        "        if cur_pos in path and path[cur_pos] == (cur_dir + 1) % 4:\n",
        "            return True\n",
        "        return search(cur_pos, (cur_dir + 1) % 4, lines)\n",
        "\n",
        "    path[cur_pos] = cur_dir\n",
        "    # Continue searching from the next position\n",
        "    return search(next_pos, cur_dir, lines)"
      ]
    },
    {
      "cell_type": "code",
      "execution_count": null,
      "metadata": {
        "id": "idv4HwKr2K3q"
      },
      "outputs": [],
      "source": [
        "lines = [list(line[:-1]) for line in lines]"
      ]
    },
    {
      "cell_type": "code",
      "execution_count": null,
      "metadata": {
        "id": "4kQQsNem4SLd"
      },
      "outputs": [],
      "source": [
        "# lines"
      ]
    },
    {
      "cell_type": "code",
      "execution_count": null,
      "metadata": {
        "colab": {
          "base_uri": "https://localhost:8080/"
        },
        "id": "HF803h-pbITS",
        "outputId": "52bc3a7b-33d6-4f4b-c21c-aa75afb9d03d"
      },
      "outputs": [
        {
          "data": {
            "text/plain": [
              "1780"
            ]
          },
          "execution_count": 241,
          "metadata": {},
          "output_type": "execute_result"
        }
      ],
      "source": [
        "cur_pos, cur_dir = (79, 87), 0\n",
        "# cur_pos, cur_dir = (6, 4), 0\n",
        "loop_obs = set()\n",
        "while 0 < cur_pos[0] < m - 1 and 0 < cur_pos[1] < n - 1:\n",
        "    next_pos = (cur_pos[0] + dirs[cur_dir][0], cur_pos[1] + dirs[cur_dir][1])\n",
        "\n",
        "    # If the next position is a wall, turn right\n",
        "    if lines[next_pos[0]][next_pos[1]] == '#':\n",
        "        cur_dir = (cur_dir + 1) % 4\n",
        "        continue\n",
        "\n",
        "\n",
        "    # Check for loops\n",
        "    lines[next_pos[0]][next_pos[1]] = '#'\n",
        "    if simulate_route(cur_pos, cur_dir):\n",
        "        loop_obs.add(next_pos)\n",
        "    lines[next_pos[0]][next_pos[1]] = '.'\n",
        "    # Mark the current position and direction as visited\n",
        "    cur_pos = next_pos\n",
        "\n",
        "for pos in loop_obs:\n",
        "    lines[pos[0]][pos[1]] = 'O'\n",
        "\n",
        "len(loop_obs) if (79, 87) not in loop_obs else len(loop_obs) - 1"
      ]
    },
    {
      "cell_type": "code",
      "execution_count": null,
      "metadata": {
        "colab": {
          "base_uri": "https://localhost:8080/"
        },
        "id": "9AoQu_KG6RaL",
        "outputId": "1e1afdd4-4e35-4884-8abd-2658f728e276"
      },
      "outputs": [
        {
          "name": "stdout",
          "output_type": "stream",
          "text": [
            "Number of valid positions: 1703\n",
            "Valid positions: [(1, 14), (1, 15), (1, 17), (1, 30), (1, 33), (1, 40), (1, 43), (1, 45), (1, 48), (1, 50), (1, 53), (1, 56), (1, 58), (1, 59), (1, 62), (1, 66), (1, 67), (1, 68), (1, 69), (1, 74), (1, 75), (1, 76), (1, 80), (1, 85), (1, 88), (1, 90), (6, 26), (6, 33), (6, 35), (6, 40), (6, 43), (7, 25), (7, 91), (8, 44), (9, 19), (9, 26), (9, 30), (9, 33), (9, 35), (9, 40), (9, 43), (9, 44), (9, 45), (9, 48), (9, 49), (9, 50), (9, 51), (9, 52), (9, 53), (9, 54), (9, 55), (9, 56), (9, 59), (9, 62), (9, 66), (9, 67), (9, 68), (9, 69), (9, 73), (9, 74), (9, 75), (9, 76), (9, 78), (9, 80), (9, 81), (9, 83), (9, 84), (9, 85), (9, 86), (9, 88), (9, 90), (9, 91), (9, 92), (9, 93), (9, 97), (9, 98), (9, 99), (10, 18), (10, 20), (10, 24), (10, 29), (10, 33), (11, 18), (11, 25), (11, 91), (12, 25), (12, 30), (12, 33), (12, 35), (12, 45), (12, 53), (12, 54), (12, 55), (12, 56), (12, 59), (12, 62), (12, 91), (13, 65), (13, 66), (13, 67), (13, 68), (13, 69), (13, 73), (13, 74), (13, 75), (13, 76), (13, 78), (13, 80), (13, 81), (13, 83), (13, 84), (13, 85), (13, 86), (13, 88), (13, 90), (13, 92), (14, 53), (14, 62), (15, 17), (15, 18), (15, 19), (15, 20), (15, 22), (15, 23), (15, 26), (15, 27), (15, 30), (15, 31), (15, 32), (15, 33), (15, 35), (15, 37), (15, 38), (15, 40), (15, 43), (15, 44), (15, 45), (15, 46), (15, 48), (15, 49), (15, 50), (15, 51), (15, 52), (15, 53), (15, 54), (15, 55), (15, 56), (15, 58), (15, 59), (15, 60), (15, 61), (15, 64), (15, 65), (15, 66), (15, 67), (15, 68), (15, 69), (15, 70), (15, 73), (15, 74), (15, 75), (15, 76), (15, 77), (15, 78), (15, 79), (15, 80), (15, 81), (15, 83), (15, 84), (15, 85), (15, 86), (15, 88), (15, 90), (15, 92), (15, 97), (15, 99), (15, 103), (15, 106), (15, 107), (15, 108), (16, 14), (16, 19), (16, 26), (16, 27), (16, 30), (16, 53), (16, 62), (16, 108), (17, 5), (17, 17), (17, 18), (17, 25), (17, 29), (17, 66), (17, 67), (17, 71), (17, 76), (17, 108), (18, 5), (18, 26), (18, 30), (18, 32), (18, 33), (18, 35), (18, 37), (18, 50), (18, 53), (18, 62), (19, 17), (19, 18), (19, 53), (20, 17), (20, 18), (20, 20), (20, 25), (20, 29), (20, 30), (20, 40), (20, 43), (20, 45), (20, 48), (20, 51), (20, 52), (20, 53), (20, 54), (20, 55), (20, 56), (20, 59), (20, 60), (20, 61), (20, 64), (20, 65), (20, 68), (20, 69), (20, 70), (20, 73), (20, 74), (20, 75), (20, 76), (20, 78), (20, 80), (20, 81), (20, 83), (20, 85), (20, 105), (20, 108), (21, 5), (21, 17), (21, 18), (21, 20), (21, 22), (21, 23), (21, 25), (21, 26), (21, 30), (21, 32), (21, 33), (21, 35), (21, 53), (21, 55), (21, 56), (21, 59), (21, 60), (21, 61), (21, 64), (21, 68), (21, 75), (21, 78), (21, 85), (21, 96), (21, 105), (21, 108), (22, 17), (22, 26), (22, 30), (22, 50), (22, 53), (22, 62), (22, 87), (22, 89), (22, 96), (23, 17), (23, 53), (23, 64), (23, 65), (23, 66), (23, 67), (23, 68), (23, 69), (23, 70), (23, 73), (23, 74), (23, 75), (23, 76), (23, 77), (23, 78), (23, 87), (24, 5), (24, 17), (24, 19), (24, 21), (24, 22), (24, 23), (24, 24), (24, 25), (24, 27), (24, 28), (24, 29), (24, 30), (24, 47), (24, 50), (24, 53), (24, 62), (24, 63), (24, 78), (24, 105), (24, 108), (25, 18), (25, 20), (25, 25), (25, 29), (25, 53), (25, 62), (25, 63), (26, 5), (26, 22), (26, 25), (26, 29), (26, 40), (26, 45), (26, 46), (26, 48), (26, 49), (26, 51), (26, 52), (26, 53), (26, 55), (26, 56), (26, 58), (26, 59), (26, 60), (26, 62), (26, 64), (26, 65), (26, 66), (26, 67), (26, 68), (26, 69), (26, 70), (26, 73), (26, 74), (26, 75), (26, 76), (26, 78), (26, 80), (26, 81), (26, 83), (26, 84), (26, 85), (26, 86), (26, 88), (26, 90), (26, 100), (26, 101), (26, 104), (26, 105), (26, 107), (26, 108), (26, 115), (26, 116), (26, 117), (27, 5), (27, 18), (27, 20), (27, 22), (27, 32), (27, 33), (27, 35), (27, 45), (27, 46), (27, 50), (27, 52), (27, 53), (27, 55), (27, 59), (27, 60), (27, 62), (27, 64), (27, 68), (27, 78), (27, 87), (27, 89), (27, 96), (27, 105), (27, 108), (27, 117), (28, 5), (28, 18), (28, 25), (28, 47), (28, 50), (28, 53), (28, 62), (28, 63), (28, 73), (28, 86), (28, 88), (28, 90), (29, 0), (29, 2), (29, 4), (29, 6), (29, 8), (29, 9), (29, 10), (29, 12), (29, 13), (29, 15), (29, 16), (29, 17), (29, 19), (29, 21), (29, 23), (29, 24), (29, 27), (29, 28), (29, 30), (29, 31), (29, 33), (29, 34), (29, 35), (29, 37), (29, 39), (29, 42), (29, 43), (29, 44), (29, 45), (29, 46), (29, 47), (29, 50), (29, 51), (29, 52), (29, 53), (29, 54), (29, 56), (29, 57), (29, 58), (29, 59), (29, 60), (29, 62), (29, 92), (29, 100), (29, 101), (29, 104), (29, 107), (29, 108), (29, 113), (29, 115), (29, 116), (29, 118), (29, 120), (29, 123), (29, 126), (30, 5), (30, 18), (30, 25), (30, 40), (30, 45), (30, 53), (30, 63), (30, 66), (30, 67), (30, 75), (30, 76), (30, 80), (30, 84), (30, 85), (30, 88), (30, 92), (30, 98), (30, 99), (30, 100), (30, 103), (31, 11), (31, 12), (31, 14), (31, 15), (31, 19), (31, 20), (31, 22), (31, 23), (31, 24), (31, 25), (31, 26), (31, 29), (31, 30), (31, 32), (31, 33), (31, 35), (31, 45), (31, 53), (31, 78), (31, 86), (31, 91), (31, 108), (32, 5), (32, 40), (32, 45), (32, 47), (32, 53), (32, 78), (32, 90), (32, 96), (33, 5), (33, 11), (33, 18), (33, 20), (33, 22), (33, 40), (33, 45), (33, 53), (33, 78), (33, 90), (33, 96), (33, 108), (33, 117), (33, 126), (34, 18), (34, 20), (34, 22), (34, 44), (34, 46), (34, 50), (34, 52), (34, 53), (34, 55), (34, 59), (34, 60), (34, 64), (34, 68), (34, 86), (34, 91), (34, 116), (34, 118), (34, 120), (34, 121), (34, 123), (34, 125), (34, 127), (34, 128), (35, 5), (35, 18), (35, 40), (35, 42), (35, 47), (35, 50), (35, 69), (35, 78), (35, 90), (35, 96), (35, 128), (36, 22), (36, 25), (36, 29), (36, 32), (36, 37), (36, 40), (36, 45), (36, 46), (36, 53), (36, 57), (36, 59), (36, 61), (36, 63), (36, 66), (36, 67), (36, 69), (36, 75), (36, 78), (36, 87), (36, 90), (36, 96), (36, 108), (36, 117), (36, 126), (36, 128), (37, 11), (37, 18), (37, 20), (37, 22), (37, 32), (37, 37), (37, 40), (37, 53), (37, 78), (37, 86), (37, 90), (37, 91), (37, 96), (37, 108), (37, 117), (37, 126), (37, 128), (38, 5), (38, 11), (38, 42), (38, 47), (38, 50), (38, 53), (38, 56), (38, 60), (38, 68), (38, 75), (38, 77), (38, 80), (38, 85), (38, 87), (38, 90), (38, 100), (38, 101), (39, 5), (39, 42), (39, 78), (39, 90), (39, 96), (39, 117), (39, 126), (39, 128), (40, 29), (40, 35), (40, 38), (40, 40), (40, 42), (40, 43), (40, 50), (40, 67), (40, 76), (40, 78), (40, 84), (40, 86), (40, 87), (41, 5), (41, 11), (41, 18), (41, 20), (41, 25), (41, 29), (41, 30), (41, 31), (41, 34), (41, 35), (41, 36), (41, 37), (41, 38), (41, 40), (41, 42), (41, 43), (41, 47), (41, 50), (41, 53), (41, 55), (41, 69), (41, 73), (41, 78), (41, 90), (41, 96), (41, 108), (41, 117), (41, 126), (41, 128), (42, 5), (42, 11), (42, 42), (42, 47), (42, 53), (42, 55), (42, 78), (42, 86), (42, 91), (42, 116), (43, 37), (43, 40), (43, 53), (43, 78), (43, 86), (43, 91), (44, 5), (44, 18), (44, 44), (44, 45), (44, 56), (44, 58), (44, 69), (44, 73), (44, 78), (44, 86), (44, 90), (44, 91), (44, 96), (44, 104), (44, 108), (44, 117), (45, 42), (45, 47), (45, 78), (45, 80), (45, 85), (45, 87), (45, 90), (45, 104), (45, 108), (46, 5), (46, 27), (46, 28), (46, 29), (46, 31), (46, 34), (46, 36), (46, 38), (46, 39), (46, 43), (46, 45), (46, 46), (46, 50), (46, 51), (46, 53), (46, 57), (46, 59), (46, 61), (46, 63), (46, 66), (46, 67), (46, 69), (46, 71), (46, 73), (46, 74), (46, 75), (46, 76), (46, 78), (46, 80), (46, 81), (46, 84), (46, 85), (46, 86), (46, 87), (46, 90), (46, 96), (46, 108), (47, 14), (47, 18), (47, 20), (47, 22), (47, 24), (47, 26), (47, 28), (47, 29), (47, 30), (47, 31), (47, 33), (47, 36), (47, 37), (47, 39), (47, 40), (47, 43), (47, 44), (47, 45), (47, 47), (47, 48), (47, 49), (47, 53), (47, 78), (47, 86), (47, 91), (47, 96), (47, 104), (48, 40), (48, 53), (48, 58), (48, 66), (48, 67), (48, 69), (48, 70), (48, 73), (48, 74), (48, 75), (48, 76), (48, 77), (48, 78), (48, 80), (48, 81), (48, 83), (48, 85), (48, 87), (48, 90), (48, 91), (48, 92), (48, 100), (48, 105), (48, 108), (49, 5), (49, 11), (49, 18), (49, 20), (49, 22), (49, 24), (49, 31), (49, 33), (49, 35), (49, 37), (49, 44), (49, 45), (49, 53), (49, 55), (49, 56), (49, 59), (49, 67), (49, 70), (49, 74), (49, 76), (49, 77), (49, 78), (49, 80), (50, 18), (50, 20), (50, 22), (50, 24), (50, 25), (50, 26), (50, 27), (50, 28), (50, 29), (50, 30), (50, 31), (50, 34), (50, 35), (50, 36), (50, 37), (50, 38), (50, 39), (50, 40), (50, 42), (50, 43), (50, 45), (50, 46), (50, 47), (50, 48), (50, 50), (50, 51), (50, 53), (50, 54), (50, 55), (50, 57), (50, 59), (50, 61), (50, 63), (50, 65), (50, 66), (50, 67), (50, 69), (50, 71), (50, 73), (50, 74), (50, 75), (50, 76), (50, 78), (50, 80), (50, 96), (50, 104), (50, 105), (50, 108), (50, 116), (50, 117), (50, 126), (50, 128), (51, 5), (51, 11), (51, 18), (51, 20), (51, 22), (51, 31), (51, 35), (51, 37), (51, 40), (51, 50), (51, 53), (51, 55), (51, 66), (51, 86), (51, 91), (52, 30), (52, 33), (52, 44), (52, 55), (52, 58), (52, 76), (52, 86), (52, 91), (52, 96), (52, 108), (52, 120), (52, 122), (52, 126), (52, 128), (53, 5), (53, 6), (53, 8), (53, 10), (53, 12), (53, 13), (53, 15), (53, 16), (53, 17), (53, 19), (53, 21), (53, 23), (53, 24), (53, 25), (53, 26), (53, 27), (53, 29), (53, 30), (53, 34), (53, 36), (53, 38), (53, 39), (53, 43), (53, 45), (53, 46), (53, 48), (53, 49), (53, 53), (53, 86), (53, 96), (53, 105), (53, 128), (54, 53), (54, 66), (54, 86), (54, 91), (55, 40), (55, 53), (55, 86), (55, 91), (56, 40), (56, 53), (56, 55), (56, 66), (56, 67), (56, 73), (56, 76), (56, 80), (56, 92), (56, 96), (56, 99), (56, 102), (56, 104), (56, 105), (56, 107), (56, 110), (56, 111), (56, 112), (56, 114), (57, 11), (57, 96), (57, 108), (58, 96), (58, 108), (59, 11), (59, 19), (59, 20), (59, 21), (59, 22), (59, 24), (59, 26), (59, 27), (59, 28), (59, 29), (59, 30), (59, 31), (59, 34), (59, 35), (59, 36), (59, 38), (59, 39), (59, 40), (59, 42), (59, 43), (59, 45), (59, 46), (59, 47), (59, 48), (59, 50), (59, 53), (59, 54), (59, 55), (59, 57), (59, 59), (59, 61), (59, 63), (59, 64), (59, 65), (59, 66), (59, 67), (59, 69), (59, 73), (59, 74), (59, 75), (59, 76), (59, 77), (59, 78), (59, 80), (59, 84), (59, 85), (59, 89), (59, 90), (60, 11), (60, 14), (60, 53), (60, 66), (60, 86), (60, 104), (60, 105), (60, 108), (60, 128), (61, 20), (61, 22), (61, 31), (61, 35), (61, 37), (61, 40), (61, 56), (61, 58), (61, 60), (61, 62), (61, 64), (61, 71), (61, 77), (61, 80), (61, 82), (61, 85), (61, 92), (61, 108), (62, 11), (62, 20), (62, 22), (62, 28), (62, 31), (62, 35), (62, 37), (62, 40), (62, 50), (62, 53), (62, 54), (62, 55), (62, 57), (62, 58), (62, 59), (62, 61), (62, 62), (62, 63), (62, 64), (62, 65), (62, 66), (62, 67), (62, 73), (62, 74), (62, 75), (62, 76), (62, 77), (62, 78), (62, 80), (62, 82), (62, 84), (62, 85), (62, 89), (62, 90), (62, 96), (62, 100), (62, 101), (62, 102), (62, 105), (62, 107), (62, 108), (63, 66), (63, 67), (63, 86), (64, 28), (64, 31), (64, 37), (64, 40), (64, 42), (64, 47), (64, 58), (64, 63), (64, 66), (64, 67), (64, 71), (64, 80), (64, 82), (64, 95), (64, 97), (64, 109), (64, 113), (64, 118), (64, 120), (65, 31), (65, 34), (65, 36), (65, 40), (65, 42), (65, 43), (65, 44), (65, 49), (65, 51), (65, 54), (65, 56), (65, 61), (65, 64), (65, 66), (65, 80), (65, 86), (65, 87), (65, 105), (66, 11), (66, 22), (66, 28), (66, 35), (66, 37), (66, 40), (66, 42), (66, 47), (66, 50), (66, 55), (66, 62), (66, 66), (66, 67), (66, 80), (67, 24), (67, 27), (67, 34), (67, 40), (67, 42), (67, 43), (67, 44), (67, 49), (67, 50), (67, 51), (67, 86), (68, 11), (68, 14), (68, 20), (68, 28), (68, 35), (68, 37), (68, 40), (68, 42), (68, 47), (68, 50), (68, 55), (68, 62), (68, 66), (68, 67), (68, 86), (68, 87), (68, 93), (68, 99), (68, 104), (68, 105), (69, 37), (69, 40), (69, 50), (69, 55), (69, 67), (69, 73), (69, 80), (69, 87), (69, 93), (69, 128), (70, 11), (70, 14), (70, 40), (70, 42), (70, 43), (70, 44), (70, 49), (70, 51), (70, 56), (70, 57), (70, 58), (70, 61), (70, 64), (70, 66), (70, 68), (70, 86), (70, 128), (71, 42), (71, 47), (71, 80), (72, 11), (72, 24), (72, 28), (72, 40), (72, 42), (72, 57), (72, 61), (72, 64), (72, 66), (72, 68), (72, 73), (72, 76), (72, 80), (72, 86), (72, 89), (72, 94), (72, 128), (73, 28), (73, 35), (73, 42), (73, 47), (73, 54), (73, 66), (73, 76), (73, 80), (73, 93), (74, 47), (74, 54), (74, 76), (74, 86), (75, 35), (75, 40), (75, 59), (75, 62), (75, 63), (75, 64), (75, 65), (75, 66), (75, 67), (75, 70), (75, 71), (75, 72), (75, 73), (75, 75), (75, 77), (75, 78), (75, 79), (75, 81), (75, 82), (75, 83), (75, 84), (75, 85), (75, 91), (75, 94), (75, 95), (75, 96), (75, 97), (75, 128), (76, 11), (76, 20), (76, 28), (76, 35), (76, 38), (76, 42), (76, 44), (76, 50), (76, 52), (76, 53), (76, 55), (76, 56), (76, 58), (76, 62), (76, 63), (76, 64), (76, 67), (76, 71), (76, 72), (76, 76), (76, 77), (76, 80), (76, 86), (76, 93), (76, 100), (77, 42), (77, 47), (77, 62), (77, 66), (77, 67), (77, 76), (77, 77), (77, 86), (77, 87), (78, 40), (78, 86), (79, 35), (79, 38), (79, 43), (79, 44), (79, 46), (79, 48), (79, 49), (79, 50), (79, 51), (79, 56), (79, 57), (79, 58), (79, 61), (79, 64), (79, 65), (79, 68), (79, 70), (79, 73), (79, 74), (79, 82), (79, 84), (79, 86), (79, 88), (79, 89), (79, 90), (79, 94), (80, 86), (80, 128), (81, 20), (81, 35), (81, 38), (81, 42), (81, 47), (81, 50), (81, 59), (81, 66), (81, 120), (81, 128), (82, 22), (82, 24), (82, 27), (82, 28), (82, 29), (82, 30), (82, 31), (82, 33), (82, 34), (82, 35), (82, 36), (82, 37), (82, 38), (82, 43), (82, 44), (82, 48), (82, 49), (82, 50), (82, 51), (82, 55), (82, 56), (82, 57), (82, 61), (82, 62), (82, 64), (82, 66), (82, 67), (82, 68), (82, 73), (82, 86), (83, 42), (83, 47), (83, 50), (83, 59), (83, 66), (83, 86), (83, 93), (84, 11), (84, 51), (84, 52), (84, 57), (84, 61), (84, 63), (84, 64), (84, 66), (84, 68), (84, 71), (84, 73), (84, 77), (84, 79), (84, 80), (84, 81), (84, 86), (84, 89), (84, 94), (84, 100), (84, 128), (85, 35), (85, 77), (85, 93), (85, 105), (86, 59), (86, 66), (86, 76), (86, 77), (86, 86), (86, 87), (86, 88), (86, 89), (86, 94), (86, 96), (86, 100), (86, 101), (86, 107), (86, 111), (86, 114), (87, 24), (87, 26), (87, 28), (87, 35), (87, 36), (87, 37), (87, 38), (87, 40), (87, 41), (87, 43), (87, 44), (87, 45), (87, 48), (87, 49), (87, 52), (87, 53), (87, 56), (87, 61), (87, 63), (87, 64), (87, 65), (87, 70), (87, 71), (87, 72), (87, 75), (87, 78), (87, 81), (87, 82), (87, 83), (87, 84), (87, 85), (87, 86), (87, 87), (87, 90), (87, 91), (87, 94), (87, 95), (87, 97), (87, 98), (88, 19), (88, 28), (88, 35), (88, 38), (88, 55), (88, 59), (88, 62), (88, 66), (88, 67), (88, 105), (89, 59), (90, 19), (90, 37), (90, 43), (90, 44), (90, 49), (90, 52), (90, 57), (90, 61), (90, 63), (90, 64), (90, 66), (90, 68), (90, 73), (91, 42), (91, 47), (91, 62), (91, 66), (91, 67), (91, 99), (91, 105), (92, 47), (92, 55), (92, 59), (92, 62), (92, 66), (92, 67), (93, 16), (93, 19), (93, 22), (93, 24), (93, 27), (93, 29), (93, 30), (93, 31), (93, 34), (93, 37), (93, 44), (93, 46), (93, 59), (93, 62), (93, 66), (93, 67), (93, 76), (93, 93), (94, 28), (94, 38), (94, 42), (94, 55), (94, 59), (94, 62), (94, 66), (94, 67), (94, 93), (94, 99), (94, 105), (95, 28), (95, 30), (95, 33), (95, 38), (95, 44), (95, 45), (95, 46), (95, 76), (95, 93), (96, 42), (96, 59), (96, 62), (96, 63), (96, 66), (96, 68), (96, 76), (96, 80), (96, 83), (96, 86), (96, 88), (96, 93), (96, 97), (96, 111), (96, 112), (96, 120), (97, 59), (97, 66), (97, 76), (97, 93), (97, 99), (97, 105), (98, 38), (98, 42), (98, 54), (98, 55), (98, 56), (98, 63), (98, 64), (98, 65), (98, 67), (98, 71), (98, 72), (98, 75), (98, 76), (98, 77), (98, 81), (98, 82), (98, 83), (98, 99), (98, 105), (100, 54), (100, 56), (100, 57), (100, 59), (100, 61), (100, 62), (100, 63), (100, 66), (100, 68), (100, 73), (100, 77), (100, 79), (100, 80), (100, 81), (100, 83), (100, 86), (100, 88), (101, 19), (101, 28), (101, 29), (101, 30), (101, 31), (101, 33), (101, 34), (101, 37), (101, 55), (101, 66), (101, 67), (101, 83), (101, 99), (101, 105), (102, 38), (102, 55), (102, 59), (102, 76), (102, 99), (102, 105), (103, 38), (103, 55), (103, 59), (103, 66), (103, 83), (104, 76), (104, 83), (104, 99), (106, 38), (106, 55), (106, 59), (106, 60), (106, 62), (106, 63), (106, 64), (106, 65), (106, 66), (106, 67), (106, 68), (106, 73), (106, 78), (106, 79), (106, 80), (106, 81), (106, 86), (106, 87), (106, 88), (106, 92), (106, 93), (106, 94), (106, 96), (106, 97), (106, 100), (107, 38), (107, 55), (107, 66), (108, 55), (108, 56), (108, 57), (108, 59), (108, 60), (108, 63), (108, 64), (108, 66), (108, 67), (108, 68), (108, 71), (108, 83), (108, 99), (109, 83), (109, 99), (110, 38), (110, 66), (110, 67), (110, 68), (110, 71), (110, 73), (110, 76), (110, 77), (110, 78), (110, 79), (110, 80), (110, 86), (110, 87), (110, 88), (110, 94), (110, 97), (111, 67), (112, 83), (113, 83), (113, 120), (114, 83), (114, 120), (115, 68), (115, 76), (115, 77), (115, 78), (115, 80), (115, 83), (115, 86), (115, 88), (115, 94), (115, 96), (115, 97), (115, 98), (115, 117), (116, 83), (119, 38), (119, 39), (119, 44), (119, 45), (119, 46), (119, 47), (119, 53), (119, 56), (119, 57), (119, 59), (119, 60), (119, 62), (119, 64), (119, 66), (119, 68), (119, 69), (119, 76), (119, 80)]\n"
          ]
        }
      ],
      "source": [
        "def parse_grid(lines):\n",
        "    \"\"\"Parse the input grid and find the guard's starting position and direction.\"\"\"\n",
        "    directions = {'^': 0, '>': 1, 'v': 2, '<': 3}\n",
        "    grid = []\n",
        "    start_pos = None\n",
        "    start_dir = None\n",
        "\n",
        "    for i, line in enumerate(lines):\n",
        "        row = list(line)\n",
        "        for j, cell in enumerate(row):\n",
        "            if cell in directions:\n",
        "                start_pos = (i, j)\n",
        "                start_dir = directions[cell]\n",
        "                row[j] = '.'  # Replace guard's starting position with empty space\n",
        "        grid.append(row)\n",
        "    return grid, start_pos, start_dir\n",
        "\n",
        "def simulate_movement(grid, start_pos, start_dir):\n",
        "    \"\"\"Simulate the guard's movement and track visited positions.\"\"\"\n",
        "    dirs = [(-1, 0), (0, 1), (1, 0), (0, -1)]  # Up, Right, Down, Left\n",
        "    m, n = len(grid), len(grid[0])\n",
        "    visited = set()\n",
        "    pos, direction = start_pos, start_dir\n",
        "\n",
        "    while True:\n",
        "        # Record current position and direction\n",
        "        visited.add((pos, direction))\n",
        "        next_pos = (pos[0] + dirs[direction][0], pos[1] + dirs[direction][1])\n",
        "\n",
        "        # If out of bounds, stop\n",
        "        if not (0 <= next_pos[0] < m and 0 <= next_pos[1] < n):\n",
        "            break\n",
        "\n",
        "        # If obstacle, turn right\n",
        "        if grid[next_pos[0]][next_pos[1]] == '#':\n",
        "            direction = (direction + 1) % 4\n",
        "        else:\n",
        "            pos = next_pos  # Move forward\n",
        "\n",
        "        # If revisiting the same position and direction, loop detected\n",
        "        if (pos, direction) in visited:\n",
        "            return True\n",
        "\n",
        "    return False\n",
        "\n",
        "def find_loop_positions(grid, start_pos, start_dir):\n",
        "    \"\"\"Find all positions where placing an obstruction causes a loop.\"\"\"\n",
        "    loop_positions = []\n",
        "    m, n = len(grid), len(grid[0])\n",
        "\n",
        "    for i in range(m):\n",
        "        for j in range(n):\n",
        "            if grid[i][j] == '.' and (i, j) != start_pos:\n",
        "                # Temporarily place an obstruction\n",
        "                grid[i][j] = '#'\n",
        "\n",
        "                # Check if placing the obstruction causes a loop\n",
        "                if simulate_movement(grid, start_pos, start_dir):\n",
        "                    loop_positions.append((i, j))\n",
        "\n",
        "                # Remove the obstruction\n",
        "                grid[i][j] = '.'\n",
        "\n",
        "    return loop_positions\n",
        "\n",
        "\n",
        "# Parse the input grid\n",
        "grid, start_pos, start_dir = parse_grid(lines)\n",
        "\n",
        "# Find valid obstruction positions\n",
        "loop_positions = find_loop_positions(grid, start_pos, start_dir)\n",
        "\n",
        "# Output the result\n",
        "print(\"Number of valid positions:\", len(loop_positions))\n",
        "print(\"Valid positions:\", loop_positions)"
      ]
    },
    {
      "cell_type": "markdown",
      "metadata": {
        "id": "P2MvfCY19c9a"
      },
      "source": [
        "\n",
        "\n",
        "## Day 7\n",
        "\n"
      ]
    },
    {
      "cell_type": "code",
      "execution_count": null,
      "metadata": {
        "colab": {
          "base_uri": "https://localhost:8080/"
        },
        "id": "m3_8ewrX9mGm",
        "outputId": "328d5a89-b4d9-4dc4-e17f-617b6c9924e8"
      },
      "outputs": [
        {
          "data": {
            "text/plain": [
              "850"
            ]
          },
          "execution_count": 37,
          "metadata": {},
          "output_type": "execute_result"
        }
      ],
      "source": [
        "with open('input-7.txt') as f:\n",
        "    lines = f.readlines()\n",
        "\n",
        "len(lines)"
      ]
    },
    {
      "cell_type": "code",
      "execution_count": null,
      "metadata": {
        "colab": {
          "base_uri": "https://localhost:8080/"
        },
        "id": "eInYu92V--mF",
        "outputId": "99ddbaf3-f613-4655-8206-838a9923aa3e"
      },
      "outputs": [
        {
          "data": {
            "text/plain": [
              "3267"
            ]
          },
          "execution_count": 3,
          "metadata": {},
          "output_type": "execute_result"
        }
      ],
      "source": [
        "(81 + 40) * 27"
      ]
    },
    {
      "cell_type": "code",
      "execution_count": null,
      "metadata": {
        "colab": {
          "base_uri": "https://localhost:8080/"
        },
        "id": "HYc3VRvwBYRK",
        "outputId": "48f6ab22-ed16-47d4-c73f-4f5e69db99c4"
      },
      "outputs": [
        {
          "name": "stdout",
          "output_type": "stream",
          "text": [
            "[487656, 65816524826, 90059295, 2109036, 191815905829, 289979206, 26683869669, 829027, 1182822246, 12212256] [['43', '7', '54', '3', '6', '28'], ['3', '29', '7', '451', '5', '64', '26', '1', '1', '9'], ['900', '1', '592', '92'], ['59', '8', '133', '7', '83', '1', '6'], ['7', '4', '2', '7', '1', '979', '9', '8', '1', '638', '9'], ['49', '587', '234', '9', '206'], ['51', '654', '837', '8', '69'], ['827', '34', '83', '85', '2', '5'], ['41', '2', '7', '40', '8', '6', '839', '7', '4', '8'], ['8', '4', '31', '4', '1', '7', '655', '4', '9', '6', '8', '7']]\n"
          ]
        }
      ],
      "source": [
        "targets, eqs = [], []\n",
        "for line in lines:\n",
        "    target, eq = line[:-1].split(': ')\n",
        "    eq = eq.split(' ')\n",
        "    targets.append(int(target))\n",
        "    eqs.append(eq)\n",
        "\n",
        "print(targets[:10], eqs[:10])"
      ]
    },
    {
      "cell_type": "code",
      "execution_count": null,
      "metadata": {
        "id": "sQG72GXb_dzv"
      },
      "outputs": [],
      "source": [
        "from functools import cache\n",
        "\n",
        "@cache\n",
        "def dp(i, op, cur, target, eq):\n",
        "    if i == len(eq) - 1:\n",
        "        return cur == target\n",
        "\n",
        "    return dp(i + 1, 0, cur + int(eq[i + 1]), target, eq) or dp(i + 1, 1, cur * int(eq[i + 1]), target, eq)\n"
      ]
    },
    {
      "cell_type": "code",
      "execution_count": null,
      "metadata": {
        "colab": {
          "base_uri": "https://localhost:8080/"
        },
        "id": "rH86q6_4Co9m",
        "outputId": "5f9dd62f-ce1c-4043-d151-cba71b2db185"
      },
      "outputs": [
        {
          "data": {
            "text/plain": [
              "1260333054159"
            ]
          },
          "execution_count": 34,
          "metadata": {},
          "output_type": "execute_result"
        }
      ],
      "source": [
        "ans = 0\n",
        "for target, eq in zip(targets, eqs):\n",
        "    if dp(0, 0, int(eq[0]), target, tuple(eq)):\n",
        "        ans += target\n",
        "\n",
        "ans"
      ]
    },
    {
      "cell_type": "code",
      "execution_count": null,
      "metadata": {
        "id": "5Hlsur5kF9Ta"
      },
      "outputs": [],
      "source": [
        "from functools import cache\n",
        "\n",
        "@cache\n",
        "def dp(i, op, cur, target, eq):\n",
        "    if i == len(eq) - 1:\n",
        "        return cur == target\n",
        "\n",
        "    return dp(i + 1, 2, int(str(cur) + eq[i + 1]), target, eq) or dp(i + 1, 0, cur + int(eq[i + 1]), target, eq) or dp(i + 1, 1, cur * int(eq[i + 1]), target, eq)\n"
      ]
    },
    {
      "cell_type": "code",
      "execution_count": null,
      "metadata": {
        "colab": {
          "base_uri": "https://localhost:8080/"
        },
        "id": "PM66yua8GzFR",
        "outputId": "9ce805c4-03db-4981-d60d-57671b71c3ed"
      },
      "outputs": [
        {
          "data": {
            "text/plain": [
              "162042343638683"
            ]
          },
          "execution_count": 40,
          "metadata": {},
          "output_type": "execute_result"
        }
      ],
      "source": [
        "ans = 0\n",
        "for target, eq in zip(targets, eqs):\n",
        "    if dp(0, 0, int(eq[0]), target, tuple(eq)):\n",
        "        ans += target\n",
        "\n",
        "ans"
      ]
    },
    {
      "cell_type": "markdown",
      "metadata": {
        "id": "7IDx5JODHglG"
      },
      "source": [
        "## Day 8"
      ]
    },
    {
      "cell_type": "code",
      "execution_count": 105,
      "metadata": {
        "colab": {
          "base_uri": "https://localhost:8080/"
        },
        "id": "MwZaOm_eHl-N",
        "outputId": "02fa4714-bb43-4285-90b8-561bf657ebc7"
      },
      "outputs": [
        {
          "output_type": "execute_result",
          "data": {
            "text/plain": [
              "(50, 50)"
            ]
          },
          "metadata": {},
          "execution_count": 105
        }
      ],
      "source": [
        "with open('input-8.txt') as f:\n",
        "    lines = f.readlines()\n",
        "\n",
        "m, n = len(lines), len(lines[0]) - 1\n",
        "m, n"
      ]
    },
    {
      "cell_type": "code",
      "execution_count": 106,
      "metadata": {
        "id": "Qzm-cZZPKkli"
      },
      "outputs": [],
      "source": [
        "class Vector:\n",
        "    def __init__(self, x, y):\n",
        "        self.x = x\n",
        "        self.y = y\n",
        "\n",
        "    def __add__(self, other):\n",
        "        return Vector(self.x + other.x, self.y + other.y)\n",
        "\n",
        "    def __sub__(self, other):\n",
        "        return Vector(self.x - other.x, self.y - other.y)\n",
        "\n",
        "    def __mul__(self, k: int):\n",
        "        return Vector(self.x * k, self.y * k)\n",
        "\n",
        "    def __eq__(self, other) -> bool:\n",
        "        return self.x == other.x and self.y == other.y\n",
        "\n",
        "    def __hash__(self) -> int:\n",
        "        return hash((self.x, self.y))\n",
        "\n",
        "    def __repr__(self) -> str:\n",
        "        return f'({self.x}, {self.y})'"
      ]
    },
    {
      "cell_type": "markdown",
      "metadata": {
        "id": "g7OpApmGL6G5"
      },
      "source": []
    },
    {
      "cell_type": "markdown",
      "metadata": {
        "id": "hFoRgr1UL6B8"
      },
      "source": []
    },
    {
      "cell_type": "code",
      "execution_count": null,
      "metadata": {
        "colab": {
          "base_uri": "https://localhost:8080/"
        },
        "id": "Abojwi5OLx5U",
        "outputId": "23e2830f-490f-4db1-ef9f-ccc6b1d99a3b"
      },
      "outputs": [
        {
          "data": {
            "text/plain": [
              "True"
            ]
          },
          "execution_count": 65,
          "metadata": {},
          "output_type": "execute_result"
        }
      ],
      "source": [
        "a, b = Vector(1, 2), Vector(3, 4)\n",
        "a + b, a - b\n",
        "a + Vector(1, 1) * 2 == b"
      ]
    },
    {
      "cell_type": "code",
      "execution_count": 107,
      "metadata": {
        "colab": {
          "base_uri": "https://localhost:8080/"
        },
        "id": "7VbNH8ILMzDP",
        "outputId": "bf473597-8b0c-4e39-cd6f-b407a4eafdb1"
      },
      "outputs": [
        {
          "output_type": "execute_result",
          "data": {
            "text/plain": [
              "166"
            ]
          },
          "metadata": {},
          "execution_count": 107
        }
      ],
      "source": [
        "antennas = {}\n",
        "for i, line in enumerate(lines):\n",
        "    for j, e in enumerate(line[:-1]):\n",
        "        if e != '.':\n",
        "            antennas[Vector(i, j)] = e\n",
        "\n",
        "len(antennas)"
      ]
    },
    {
      "cell_type": "code",
      "execution_count": 108,
      "metadata": {
        "colab": {
          "base_uri": "https://localhost:8080/"
        },
        "id": "M_rGsLddTOjE",
        "outputId": "5fc1dcb9-ae95-4f33-f47a-baae59391975"
      },
      "outputs": [
        {
          "output_type": "execute_result",
          "data": {
            "text/plain": [
              "289"
            ]
          },
          "metadata": {},
          "execution_count": 108
        }
      ],
      "source": [
        "from itertools import product\n",
        "\n",
        "antinodes = set()\n",
        "for a, b in product(antennas, repeat=2):\n",
        "    if a == b or antennas[a] != antennas[b]:\n",
        "        continue\n",
        "    u, v = a + (b - a) * 2, b + (a - b) * 2\n",
        "    if 0 <= u.x < m and 0 <= u.y < n:\n",
        "        antinodes.add(u)\n",
        "    if 0 <= v.x < m and 0 <= v.y < n:\n",
        "        antinodes.add(v)\n",
        "\n",
        "len(antinodes)"
      ]
    },
    {
      "cell_type": "code",
      "source": [
        "from itertools import product\n",
        "\n",
        "antinodes = set()\n",
        "for a, b in product(antennas, repeat=2):\n",
        "    if a == b or antennas[a] != antennas[b]:\n",
        "        continue\n",
        "\n",
        "    p1, p2, t = a, b, 0\n",
        "    while (0 <= p1.x < m and 0 <= p1.y < n) or (0 <= p2.x < m and 0 <= p2.y < n):\n",
        "        p1, p2 = a + (b - a) * t, b + (a - b) * t\n",
        "        if 0 <= p1.x < m and 0 <= p1.y < n:\n",
        "            antinodes.add(p1)\n",
        "        if 0 <= p2.x < m and 0 <= p2.y < n:\n",
        "            antinodes.add(p2)\n",
        "        t += 1\n",
        "\n",
        "\n",
        "len(antinodes)"
      ],
      "metadata": {
        "colab": {
          "base_uri": "https://localhost:8080/"
        },
        "id": "cts84sG0eML3",
        "outputId": "f858296e-44d5-4531-99a3-33f4cabe1aed"
      },
      "execution_count": 109,
      "outputs": [
        {
          "output_type": "execute_result",
          "data": {
            "text/plain": [
              "1030"
            ]
          },
          "metadata": {},
          "execution_count": 109
        }
      ]
    },
    {
      "cell_type": "markdown",
      "source": [
        "## Day 9"
      ],
      "metadata": {
        "id": "-ENKvUR1ev08"
      }
    },
    {
      "cell_type": "code",
      "source": [
        "with open('input-9.txt') as f:\n",
        "    lines = f.readlines()\n",
        "\n",
        "len(lines[0])"
      ],
      "metadata": {
        "colab": {
          "base_uri": "https://localhost:8080/"
        },
        "id": "7vddOS56ezYi",
        "outputId": "20642985-8c94-4a7a-e4d3-90e237b906cb"
      },
      "execution_count": 188,
      "outputs": [
        {
          "output_type": "execute_result",
          "data": {
            "text/plain": [
              "19999"
            ]
          },
          "metadata": {},
          "execution_count": 188
        }
      ]
    },
    {
      "cell_type": "code",
      "source": [
        "memory = {}\n",
        "id = 0\n",
        "cur_ptr = 0\n",
        "allocated = 0\n",
        "for i, e in enumerate(lines[0]):\n",
        "    if i % 2:\n",
        "        for ptr in range(cur_ptr, cur_ptr + int(e)):\n",
        "            memory[ptr] = -1\n",
        "\n",
        "        cur_ptr += int(e)\n",
        "    else:\n",
        "        for ptr in range(cur_ptr, cur_ptr + int(e)):\n",
        "            memory[ptr] = id\n",
        "\n",
        "        allocated += int(e)\n",
        "        cur_ptr += int(e)\n",
        "        id += 1\n",
        "\n",
        "memory[2]\n",
        "memory[len(memory)-1], id, allocated"
      ],
      "metadata": {
        "colab": {
          "base_uri": "https://localhost:8080/"
        },
        "id": "N6lgrysai8n6",
        "outputId": "35564182-3b04-40b8-c23d-a4ca31a680f8"
      },
      "execution_count": 139,
      "outputs": [
        {
          "output_type": "execute_result",
          "data": {
            "text/plain": [
              "(9999, 10000, 49744)"
            ]
          },
          "metadata": {},
          "execution_count": 139
        }
      ]
    },
    {
      "cell_type": "code",
      "source": [
        "first_free = 2\n",
        "last_allocated = len(memory) - 1\n",
        "while first_free < allocated:\n",
        "    memory[first_free], memory[last_allocated] = memory[last_allocated], -1\n",
        "    while memory[first_free] != -1:\n",
        "        first_free += 1\n",
        "    while memory[last_allocated] == -1:\n",
        "        last_allocated -= 1\n",
        "\n",
        "first_free, last_allocated\n",
        "memory[2]"
      ],
      "metadata": {
        "colab": {
          "base_uri": "https://localhost:8080/"
        },
        "id": "33014xKOkRi0",
        "outputId": "389755e7-a06f-479c-d172-8336f199e9d1"
      },
      "execution_count": 140,
      "outputs": [
        {
          "output_type": "execute_result",
          "data": {
            "text/plain": [
              "9999"
            ]
          },
          "metadata": {},
          "execution_count": 140
        }
      ]
    },
    {
      "cell_type": "code",
      "source": [
        "# for ptr, id in memory.items():\n",
        "#     if ptr < 100:\n",
        "#         print(id)\n",
        "# ''.join(str(id) for id in memory.values())"
      ],
      "metadata": {
        "colab": {
          "base_uri": "https://localhost:8080/",
          "height": 36
        },
        "id": "aKEigP5Bo1XQ",
        "outputId": "a0a9a9ed-1415-4f84-a8a8-7c335ba021c7"
      },
      "execution_count": 136,
      "outputs": [
        {
          "output_type": "execute_result",
          "data": {
            "text/plain": [
              "'0099811188827773336446555566-1-1-1-1-1-1-1-1-1-1-1-1-1-1'"
            ],
            "application/vnd.google.colaboratory.intrinsic+json": {
              "type": "string"
            }
          },
          "metadata": {},
          "execution_count": 136
        }
      ]
    },
    {
      "cell_type": "markdown",
      "source": [
        "0099811188827773336446555566.............."
      ],
      "metadata": {
        "id": "q3xspVqWqT1V"
      }
    },
    {
      "cell_type": "code",
      "source": [
        "checksum = 0\n",
        "for ptr, id in memory.items():\n",
        "    if id == -1:\n",
        "        continue\n",
        "    checksum += id * ptr\n",
        "\n",
        "checksum"
      ],
      "metadata": {
        "colab": {
          "base_uri": "https://localhost:8080/"
        },
        "id": "kYaPupbQnGuT",
        "outputId": "92812432-961d-4b22-f087-69c94ab1579f"
      },
      "execution_count": 141,
      "outputs": [
        {
          "output_type": "execute_result",
          "data": {
            "text/plain": [
              "6283404590840"
            ]
          },
          "metadata": {},
          "execution_count": 141
        }
      ]
    },
    {
      "cell_type": "code",
      "source": [
        "free_chunks = []\n",
        "allocated_chunks = []\n",
        "id = 0\n",
        "cur_ptr = 0\n",
        "for i, e in enumerate(lines[0]):\n",
        "    if i % 2:\n",
        "        if int(e) > 0:\n",
        "            free_chunks.append((cur_ptr, int(e)))\n",
        "            cur_ptr += int(e)\n",
        "    elif int(e):\n",
        "        allocated_chunks.append((cur_ptr, int(e), id))\n",
        "        cur_ptr += int(e)\n",
        "        id += 1\n",
        "\n",
        "free_chunks[:10], allocated_chunks[:10]"
      ],
      "metadata": {
        "colab": {
          "base_uri": "https://localhost:8080/"
        },
        "id": "Y-R1V67Jscn7",
        "outputId": "223a1cda-c910-42d2-8461-1154add136cc"
      },
      "execution_count": 195,
      "outputs": [
        {
          "output_type": "execute_result",
          "data": {
            "text/plain": [
              "([(2, 2),\n",
              "  (5, 7),\n",
              "  (20, 7),\n",
              "  (36, 1),\n",
              "  (40, 5),\n",
              "  (54, 9),\n",
              "  (71, 8),\n",
              "  (83, 2),\n",
              "  (87, 7),\n",
              "  (98, 1)],\n",
              " [(0, 1, 0),\n",
              "  (1, 1, 1),\n",
              "  (4, 1, 2),\n",
              "  (12, 8, 3),\n",
              "  (27, 9, 4),\n",
              "  (37, 3, 5),\n",
              "  (45, 4, 6),\n",
              "  (49, 5, 7),\n",
              "  (63, 8, 8),\n",
              "  (79, 4, 9)])"
            ]
          },
          "metadata": {},
          "execution_count": 195
        }
      ]
    },
    {
      "cell_type": "code",
      "source": [
        "from collections import deque\n",
        "\n",
        "\n",
        "\n",
        "free_chunks, moved_chunks = deque(free_chunks), []\n",
        "stayed_chunks = []\n",
        "while allocated_chunks:\n",
        "    free_ptr, free_size = free_chunks.popleft()\n",
        "    allocated_ptr, allocated_size, allocated_id = allocated_chunks.pop()\n",
        "    cnt = 0\n",
        "\n",
        "    while cnt < len(free_chunks) and free_ptr < allocated_ptr and allocated_size > free_size:\n",
        "        free_chunks.append((free_ptr, free_size))\n",
        "        free_ptr, free_size = free_chunks.popleft()\n",
        "        cnt += 1\n",
        "\n",
        "\n",
        "\n",
        "    if free_ptr < allocated_ptr and allocated_size <= free_size:\n",
        "        moved_chunks.append((free_ptr, allocated_size, allocated_id))\n",
        "        if free_size > allocated_size:\n",
        "            free_chunks.appendleft((free_ptr + allocated_size, free_size - allocated_size))\n",
        "    else:\n",
        "        stayed_chunks.append((allocated_ptr, allocated_size, allocated_id))\n",
        "        free_chunks.appendleft((free_ptr, free_size))\n",
        "\n",
        "\n",
        "    while cnt > 0:\n",
        "        free_chunks.appendleft(free_chunks.pop())\n",
        "        cnt -= 1\n",
        ""
      ],
      "metadata": {
        "id": "ieYYW5zNufPe"
      },
      "execution_count": 196,
      "outputs": []
    },
    {
      "cell_type": "code",
      "source": [
        "moved_chunks[:10]"
      ],
      "metadata": {
        "colab": {
          "base_uri": "https://localhost:8080/"
        },
        "id": "Fzfjwnbqz6s6",
        "outputId": "6f48b271-d731-47a2-acc1-7277bf8eab43"
      },
      "execution_count": 197,
      "outputs": [
        {
          "output_type": "execute_result",
          "data": {
            "text/plain": [
              "[(5, 4, 9999),\n",
              " (20, 4, 9998),\n",
              " (54, 9, 9997),\n",
              " (40, 5, 9996),\n",
              " (71, 4, 9995),\n",
              " (75, 4, 9994),\n",
              " (87, 6, 9993),\n",
              " (107, 4, 9992),\n",
              " (2, 1, 9991),\n",
              " (124, 6, 9990)]"
            ]
          },
          "metadata": {},
          "execution_count": 197
        }
      ]
    },
    {
      "cell_type": "code",
      "source": [
        "stayed_chunks[:10]"
      ],
      "metadata": {
        "colab": {
          "base_uri": "https://localhost:8080/"
        },
        "id": "FF1gLXC50BG9",
        "outputId": "9107e15a-21d4-48db-8082-c63f8f980817"
      },
      "execution_count": 198,
      "outputs": [
        {
          "output_type": "execute_result",
          "data": {
            "text/plain": [
              "[(51691, 9, 5454),\n",
              " (51568, 9, 5440),\n",
              " (51518, 9, 5435),\n",
              " (51407, 9, 5423),\n",
              " (51332, 9, 5412),\n",
              " (51147, 9, 5392),\n",
              " (50949, 9, 5368),\n",
              " (50859, 9, 5360),\n",
              " (50766, 9, 5352),\n",
              " (50714, 9, 5346)]"
            ]
          },
          "metadata": {},
          "execution_count": 198
        }
      ]
    },
    {
      "cell_type": "markdown",
      "source": [
        "00992111777.44.333....5555.6666.....8888.."
      ],
      "metadata": {
        "id": "tOpqsw8u0IlJ"
      }
    },
    {
      "cell_type": "code",
      "source": [
        "checksum = 0\n",
        "for ptr, size, id in moved_chunks:\n",
        "    checksum += id * (2 * ptr + size - 1) * size // 2\n",
        "\n",
        "for ptr, size, id in stayed_chunks:\n",
        "    checksum += id * (2 * ptr + size - 1) * size // 2\n",
        "\n",
        "checksum"
      ],
      "metadata": {
        "colab": {
          "base_uri": "https://localhost:8080/"
        },
        "id": "YpJnbzj6wXwl",
        "outputId": "e4bd7c40-2c52-4033-81f8-ae3cf09b8def"
      },
      "execution_count": 199,
      "outputs": [
        {
          "output_type": "execute_result",
          "data": {
            "text/plain": [
              "6304576012713"
            ]
          },
          "metadata": {},
          "execution_count": 199
        }
      ]
    },
    {
      "cell_type": "code",
      "source": [
        "a = 0xffff\n",
        "a & 2024"
      ],
      "metadata": {
        "colab": {
          "base_uri": "https://localhost:8080/"
        },
        "id": "JpjiVpGdDoPp",
        "outputId": "84edb51b-51e3-4db9-8f07-2600067b7075"
      },
      "execution_count": 203,
      "outputs": [
        {
          "output_type": "execute_result",
          "data": {
            "text/plain": [
              "2024"
            ]
          },
          "metadata": {},
          "execution_count": 203
        }
      ]
    }
  ],
  "metadata": {
    "colab": {
      "provenance": [],
      "authorship_tag": "ABX9TyOphkTbRu1+EGP0bH3002OJ",
      "include_colab_link": true
    },
    "kernelspec": {
      "display_name": "Python 3",
      "name": "python3"
    },
    "language_info": {
      "name": "python"
    }
  },
  "nbformat": 4,
  "nbformat_minor": 0
}